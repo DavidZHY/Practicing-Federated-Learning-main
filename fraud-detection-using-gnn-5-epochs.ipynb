{
 "cells": [
  {
   "cell_type": "code",
   "execution_count": null,
   "id": "95dafa52",
   "metadata": {
    "_cell_guid": "b1076dfc-b9ad-4769-8c92-a6c4dae69d19",
    "_uuid": "8f2839f25d086af736a60e9eeb907d3b93b6e0e5",
    "execution": {
     "iopub.execute_input": "2023-05-22T19:16:53.150316Z",
     "iopub.status.busy": "2023-05-22T19:16:53.149905Z",
     "iopub.status.idle": "2023-05-22T19:16:53.166104Z",
     "shell.execute_reply": "2023-05-22T19:16:53.164673Z"
    },
    "papermill": {
     "duration": 0.046802,
     "end_time": "2023-05-22T19:16:53.169453",
     "exception": false,
     "start_time": "2023-05-22T19:16:53.122651",
     "status": "completed"
    },
    "tags": []
   },
   "outputs": [
    {
     "ename": "",
     "evalue": "",
     "output_type": "error",
     "traceback": [
      "\u001b[1;31m运行具有“c:\\Complier\\Python\\Python311\\python.exe”的单元格需要ipykernel包。\n",
      "\u001b[1;31mRun the following command to install 'ipykernel' into the Python environment. \n",
      "\u001b[1;31mCommand: 'c:/Complier/Python/Python311/python.exe -m pip install ipykernel -U --user --force-reinstall'"
     ]
    }
   ],
   "source": [
    "# This Python 3 environment comes with many helpful analytics libraries installed\n",
    "# It is defined by the kaggle/python Docker image: https://github.com/kaggle/docker-python\n",
    "# For example, here's several helpful packages to load\n",
    "\n",
    "import numpy as np # linear algebra\n",
    "import pandas as pd # data processing, CSV file I/O (e.g. pd.read_csv)\n",
    "\n",
    "# Input data files are available in the read-only \"../inpu\n",
    "# t/\" directory\n",
    "# For example, running this (by clicking run or pressing Shift+Enter) will list all files under the input directory\n",
    "\n",
    "import os\n",
    "for dirname, _, filenames in os.walk('/kaggle/input'):\n",
    "    for filename in filenames:\n",
    "        print(os.path.join(dirname, filename))\n",
    "\n",
    "# You can write up to 20GB to the current directory (/kaggle/working/) that gets preserved as output when you create a version using \"Save & Run All\"\n",
    "# You can also write temporary files to /kaggle/temp/, but they won't be saved outside of the current session"
   ]
  },
  {
   "cell_type": "markdown",
   "id": "85710ce8",
   "metadata": {
    "papermill": {
     "duration": 0.024036,
     "end_time": "2023-05-22T19:16:53.218836",
     "exception": false,
     "start_time": "2023-05-22T19:16:53.194800",
     "status": "completed"
    },
    "tags": []
   },
   "source": [
    "# **Data Preparation**"
   ]
  },
  {
   "cell_type": "markdown",
   "id": "a739b1e7",
   "metadata": {
    "papermill": {
     "duration": 0.02391,
     "end_time": "2023-05-22T19:16:53.267215",
     "exception": false,
     "start_time": "2023-05-22T19:16:53.243305",
     "status": "completed"
    },
    "tags": []
   },
   "source": [
    "**Data Overview**"
   ]
  },
  {
   "cell_type": "code",
   "execution_count": null,
   "id": "cb0ae5b1",
   "metadata": {
    "execution": {
     "iopub.execute_input": "2023-05-22T19:16:53.317927Z",
     "iopub.status.busy": "2023-05-22T19:16:53.317498Z",
     "iopub.status.idle": "2023-05-22T19:16:53.322863Z",
     "shell.execute_reply": "2023-05-22T19:16:53.321574Z"
    },
    "papermill": {
     "duration": 0.033578,
     "end_time": "2023-05-22T19:16:53.325201",
     "exception": false,
     "start_time": "2023-05-22T19:16:53.291623",
     "status": "completed"
    },
    "tags": []
   },
   "outputs": [
    {
     "ename": "",
     "evalue": "",
     "output_type": "error",
     "traceback": [
      "\u001b[1;31mRunning cells with 'c:\\Users\\Cathy\\AppData\\Local\\Programs\\Python\\Python311\\python.exe' requires the ipykernel package.\n",
      "\u001b[1;31mRun the following command to install 'ipykernel' into the Python environment. \n",
      "\u001b[1;31mCommand: 'c:/Users/Cathy/AppData/Local/Programs/Python/Python311/python.exe -m pip install ipykernel -U --user --force-reinstall'"
     ]
    }
   ],
   "source": [
    "import numpy as np\n",
    "import pandas as pd"
   ]
  },
  {
   "cell_type": "markdown",
   "id": "bf69b5bd",
   "metadata": {
    "papermill": {
     "duration": 0.025169,
     "end_time": "2023-05-22T19:16:53.374904",
     "exception": false,
     "start_time": "2023-05-22T19:16:53.349735",
     "status": "completed"
    },
    "tags": []
   },
   "source": [
    "**Data Description**"
   ]
  },
  {
   "cell_type": "code",
   "execution_count": null,
   "id": "cc986c50",
   "metadata": {
    "execution": {
     "iopub.execute_input": "2023-05-22T19:16:53.425968Z",
     "iopub.status.busy": "2023-05-22T19:16:53.425535Z",
     "iopub.status.idle": "2023-05-22T19:18:01.175020Z",
     "shell.execute_reply": "2023-05-22T19:18:01.173776Z"
    },
    "papermill": {
     "duration": 67.778562,
     "end_time": "2023-05-22T19:18:01.177928",
     "exception": false,
     "start_time": "2023-05-22T19:16:53.399366",
     "status": "completed"
    },
    "tags": []
   },
   "outputs": [
    {
     "ename": "",
     "evalue": "",
     "output_type": "error",
     "traceback": [
      "\u001b[1;31mRunning cells with 'c:\\Users\\Cathy\\AppData\\Local\\Programs\\Python\\Python311\\python.exe' requires the ipykernel package.\n",
      "\u001b[1;31mRun the following command to install 'ipykernel' into the Python environment. \n",
      "\u001b[1;31mCommand: 'c:/Users/Cathy/AppData/Local/Programs/Python/Python311/python.exe -m pip install ipykernel -U --user --force-reinstall'"
     ]
    }
   ],
   "source": [
    "transaction_df = pd.read_csv('/kaggle/input/ieee-fraud-detection/train_transaction.csv')\n",
    "identity_df = pd.read_csv('/kaggle/input/ieee-fraud-detection/train_identity.csv')\n",
    "test_transaction = pd.read_csv('/kaggle/input/ieee-fraud-detection/test_transaction.csv')\n",
    "test_identity = pd.read_csv('/kaggle/input/ieee-fraud-detection/test_identity.csv')"
   ]
  },
  {
   "cell_type": "code",
   "execution_count": null,
   "id": "71495002",
   "metadata": {
    "execution": {
     "iopub.execute_input": "2023-05-22T19:18:01.228981Z",
     "iopub.status.busy": "2023-05-22T19:18:01.228592Z",
     "iopub.status.idle": "2023-05-22T19:18:01.234465Z",
     "shell.execute_reply": "2023-05-22T19:18:01.233218Z"
    },
    "papermill": {
     "duration": 0.034114,
     "end_time": "2023-05-22T19:18:01.236973",
     "exception": false,
     "start_time": "2023-05-22T19:18:01.202859",
     "status": "completed"
    },
    "tags": []
   },
   "outputs": [
    {
     "ename": "",
     "evalue": "",
     "output_type": "error",
     "traceback": [
      "\u001b[1;31mRunning cells with 'c:\\Users\\Cathy\\AppData\\Local\\Programs\\Python\\Python311\\python.exe' requires the ipykernel package.\n",
      "\u001b[1;31mRun the following command to install 'ipykernel' into the Python environment. \n",
      "\u001b[1;31mCommand: 'c:/Users/Cathy/AppData/Local/Programs/Python/Python311/python.exe -m pip install ipykernel -U --user --force-reinstall'"
     ]
    }
   ],
   "source": [
    "id_cols = ['card1','card2','card3','card4','card5','card6','ProductCD','addr1','addr2','P_emaildomain','R_emaildomain']\n",
    "cat_cols = ['M1','M2','M3','M4','M5','M6','M7','M8','M9']\n",
    "train_data_ratio = 0.8"
   ]
  },
  {
   "cell_type": "code",
   "execution_count": null,
   "id": "1e144225",
   "metadata": {
    "execution": {
     "iopub.execute_input": "2023-05-22T19:18:01.288303Z",
     "iopub.status.busy": "2023-05-22T19:18:01.287607Z",
     "iopub.status.idle": "2023-05-22T19:18:01.299465Z",
     "shell.execute_reply": "2023-05-22T19:18:01.298179Z"
    },
    "papermill": {
     "duration": 0.040911,
     "end_time": "2023-05-22T19:18:01.302564",
     "exception": false,
     "start_time": "2023-05-22T19:18:01.261653",
     "status": "completed"
    },
    "tags": []
   },
   "outputs": [
    {
     "ename": "",
     "evalue": "",
     "output_type": "error",
     "traceback": [
      "\u001b[1;31mRunning cells with 'c:\\Users\\Cathy\\AppData\\Local\\Programs\\Python\\Python311\\python.exe' requires the ipykernel package.\n",
      "\u001b[1;31mRun the following command to install 'ipykernel' into the Python environment. \n",
      "\u001b[1;31mCommand: 'c:/Users/Cathy/AppData/Local/Programs/Python/Python311/python.exe -m pip install ipykernel -U --user --force-reinstall'"
     ]
    }
   ],
   "source": [
    "n_train = int(transaction_df.shape[0]*train_data_ratio)\n",
    "test_ids = transaction_df.TransactionID.values[n_train:]"
   ]
  },
  {
   "cell_type": "code",
   "execution_count": null,
   "id": "d69e949c",
   "metadata": {
    "execution": {
     "iopub.execute_input": "2023-05-22T19:18:01.354019Z",
     "iopub.status.busy": "2023-05-22T19:18:01.353365Z",
     "iopub.status.idle": "2023-05-22T19:18:01.518316Z",
     "shell.execute_reply": "2023-05-22T19:18:01.516572Z"
    },
    "papermill": {
     "duration": 0.193971,
     "end_time": "2023-05-22T19:18:01.521127",
     "exception": false,
     "start_time": "2023-05-22T19:18:01.327156",
     "status": "completed"
    },
    "tags": []
   },
   "outputs": [
    {
     "ename": "",
     "evalue": "",
     "output_type": "error",
     "traceback": [
      "\u001b[1;31mRunning cells with 'c:\\Users\\Cathy\\AppData\\Local\\Programs\\Python\\Python311\\python.exe' requires the ipykernel package.\n",
      "\u001b[1;31mRun the following command to install 'ipykernel' into the Python environment. \n",
      "\u001b[1;31mCommand: 'c:/Users/Cathy/AppData/Local/Programs/Python/Python311/python.exe -m pip install ipykernel -U --user --force-reinstall'"
     ]
    }
   ],
   "source": [
    "get_fraud_frac = lambda series: 100 * sum(series)/len(series)\n",
    "print(\"Percent fraud for train transactions: {}\".format(get_fraud_frac(transaction_df.isFraud[:n_train])))\n",
    "print(\"Percent fraud for test transactions: {}\".format(get_fraud_frac(transaction_df.isFraud[n_train:])))\n",
    "print(\"Percent fraud for all transactions: {}\".format(get_fraud_frac(transaction_df.isFraud)))"
   ]
  },
  {
   "cell_type": "code",
   "execution_count": null,
   "id": "4589fac5",
   "metadata": {
    "execution": {
     "iopub.execute_input": "2023-05-22T19:18:01.573032Z",
     "iopub.status.busy": "2023-05-22T19:18:01.571973Z",
     "iopub.status.idle": "2023-05-22T19:18:01.758915Z",
     "shell.execute_reply": "2023-05-22T19:18:01.757828Z"
    },
    "papermill": {
     "duration": 0.215836,
     "end_time": "2023-05-22T19:18:01.761890",
     "exception": false,
     "start_time": "2023-05-22T19:18:01.546054",
     "status": "completed"
    },
    "tags": []
   },
   "outputs": [
    {
     "ename": "",
     "evalue": "",
     "output_type": "error",
     "traceback": [
      "\u001b[1;31mRunning cells with 'c:\\Users\\Cathy\\AppData\\Local\\Programs\\Python\\Python311\\python.exe' requires the ipykernel package.\n",
      "\u001b[1;31mRun the following command to install 'ipykernel' into the Python environment. \n",
      "\u001b[1;31mCommand: 'c:/Users/Cathy/AppData/Local/Programs/Python/Python311/python.exe -m pip install ipykernel -U --user --force-reinstall'"
     ]
    }
   ],
   "source": [
    "with open('/kaggle/working/test.csv', 'w') as f:\n",
    "    f.writelines(map(lambda x: str(x) + \"\\n\", test_ids))"
   ]
  },
  {
   "cell_type": "code",
   "execution_count": null,
   "id": "b82fff08",
   "metadata": {
    "execution": {
     "iopub.execute_input": "2023-05-22T19:18:01.813562Z",
     "iopub.status.busy": "2023-05-22T19:18:01.812668Z",
     "iopub.status.idle": "2023-05-22T19:18:01.819044Z",
     "shell.execute_reply": "2023-05-22T19:18:01.817814Z"
    },
    "papermill": {
     "duration": 0.034616,
     "end_time": "2023-05-22T19:18:01.821494",
     "exception": false,
     "start_time": "2023-05-22T19:18:01.786878",
     "status": "completed"
    },
    "tags": []
   },
   "outputs": [
    {
     "ename": "",
     "evalue": "",
     "output_type": "error",
     "traceback": [
      "\u001b[1;31mRunning cells with 'c:\\Users\\Cathy\\AppData\\Local\\Programs\\Python\\Python311\\python.exe' requires the ipykernel package.\n",
      "\u001b[1;31mRun the following command to install 'ipykernel' into the Python environment. \n",
      "\u001b[1;31mCommand: 'c:/Users/Cathy/AppData/Local/Programs/Python/Python311/python.exe -m pip install ipykernel -U --user --force-reinstall'"
     ]
    }
   ],
   "source": [
    "non_feature_cols = ['isFraud', 'TransactionDT'] + id_cols\n",
    "print(non_feature_cols)"
   ]
  },
  {
   "cell_type": "code",
   "execution_count": null,
   "id": "22fcd1f0",
   "metadata": {
    "execution": {
     "iopub.execute_input": "2023-05-22T19:18:01.873523Z",
     "iopub.status.busy": "2023-05-22T19:18:01.873087Z",
     "iopub.status.idle": "2023-05-22T19:18:01.879260Z",
     "shell.execute_reply": "2023-05-22T19:18:01.878100Z"
    },
    "papermill": {
     "duration": 0.035648,
     "end_time": "2023-05-22T19:18:01.882062",
     "exception": false,
     "start_time": "2023-05-22T19:18:01.846414",
     "status": "completed"
    },
    "tags": []
   },
   "outputs": [
    {
     "ename": "",
     "evalue": "",
     "output_type": "error",
     "traceback": [
      "\u001b[1;31mRunning cells with 'c:\\Users\\Cathy\\AppData\\Local\\Programs\\Python\\Python311\\python.exe' requires the ipykernel package.\n",
      "\u001b[1;31mRun the following command to install 'ipykernel' into the Python environment. \n",
      "\u001b[1;31mCommand: 'c:/Users/Cathy/AppData/Local/Programs/Python/Python311/python.exe -m pip install ipykernel -U --user --force-reinstall'"
     ]
    }
   ],
   "source": [
    "feature_cols = [col for col in transaction_df.columns if col not in non_feature_cols]\n",
    "print(feature_cols)"
   ]
  },
  {
   "cell_type": "code",
   "execution_count": null,
   "id": "d51d45a4",
   "metadata": {
    "execution": {
     "iopub.execute_input": "2023-05-22T19:18:01.933406Z",
     "iopub.status.busy": "2023-05-22T19:18:01.932962Z",
     "iopub.status.idle": "2023-05-22T19:18:06.465122Z",
     "shell.execute_reply": "2023-05-22T19:18:06.464225Z"
    },
    "papermill": {
     "duration": 4.562021,
     "end_time": "2023-05-22T19:18:06.468567",
     "exception": false,
     "start_time": "2023-05-22T19:18:01.906546",
     "status": "completed"
    },
    "tags": []
   },
   "outputs": [
    {
     "ename": "",
     "evalue": "",
     "output_type": "error",
     "traceback": [
      "\u001b[1;31mRunning cells with 'c:\\Users\\Cathy\\AppData\\Local\\Programs\\Python\\Python311\\python.exe' requires the ipykernel package.\n",
      "\u001b[1;31mRun the following command to install 'ipykernel' into the Python environment. \n",
      "\u001b[1;31mCommand: 'c:/Users/Cathy/AppData/Local/Programs/Python/Python311/python.exe -m pip install ipykernel -U --user --force-reinstall'"
     ]
    }
   ],
   "source": [
    "features = pd.get_dummies(transaction_df[feature_cols], columns=cat_cols).fillna(0)\n",
    "features['TransactionAmt'] = features['TransactionAmt'].apply(np.log10)"
   ]
  },
  {
   "cell_type": "code",
   "execution_count": null,
   "id": "b3b7aeae",
   "metadata": {
    "execution": {
     "iopub.execute_input": "2023-05-22T19:18:06.540122Z",
     "iopub.status.busy": "2023-05-22T19:18:06.539122Z",
     "iopub.status.idle": "2023-05-22T19:18:06.548215Z",
     "shell.execute_reply": "2023-05-22T19:18:06.547104Z"
    },
    "papermill": {
     "duration": 0.049069,
     "end_time": "2023-05-22T19:18:06.550987",
     "exception": false,
     "start_time": "2023-05-22T19:18:06.501918",
     "status": "completed"
    },
    "tags": []
   },
   "outputs": [
    {
     "ename": "",
     "evalue": "",
     "output_type": "error",
     "traceback": [
      "\u001b[1;31mRunning cells with 'c:\\Users\\Cathy\\AppData\\Local\\Programs\\Python\\Python311\\python.exe' requires the ipykernel package.\n",
      "\u001b[1;31mRun the following command to install 'ipykernel' into the Python environment. \n",
      "\u001b[1;31mCommand: 'c:/Users/Cathy/AppData/Local/Programs/Python/Python311/python.exe -m pip install ipykernel -U --user --force-reinstall'"
     ]
    }
   ],
   "source": [
    "features.shape"
   ]
  },
  {
   "cell_type": "code",
   "execution_count": null,
   "id": "c033d6f8",
   "metadata": {
    "execution": {
     "iopub.execute_input": "2023-05-22T19:18:06.606569Z",
     "iopub.status.busy": "2023-05-22T19:18:06.605731Z",
     "iopub.status.idle": "2023-05-22T19:18:06.612279Z",
     "shell.execute_reply": "2023-05-22T19:18:06.610613Z"
    },
    "papermill": {
     "duration": 0.035212,
     "end_time": "2023-05-22T19:18:06.614912",
     "exception": false,
     "start_time": "2023-05-22T19:18:06.579700",
     "status": "completed"
    },
    "tags": []
   },
   "outputs": [
    {
     "ename": "",
     "evalue": "",
     "output_type": "error",
     "traceback": [
      "\u001b[1;31mRunning cells with 'c:\\Users\\Cathy\\AppData\\Local\\Programs\\Python\\Python311\\python.exe' requires the ipykernel package.\n",
      "\u001b[1;31mRun the following command to install 'ipykernel' into the Python environment. \n",
      "\u001b[1;31mCommand: 'c:/Users/Cathy/AppData/Local/Programs/Python/Python311/python.exe -m pip install ipykernel -U --user --force-reinstall'"
     ]
    }
   ],
   "source": [
    "print(list(features.columns))"
   ]
  },
  {
   "cell_type": "code",
   "execution_count": null,
   "id": "bc5304cf",
   "metadata": {
    "execution": {
     "iopub.execute_input": "2023-05-22T19:18:06.666368Z",
     "iopub.status.busy": "2023-05-22T19:18:06.665897Z",
     "iopub.status.idle": "2023-05-22T19:21:06.769097Z",
     "shell.execute_reply": "2023-05-22T19:21:06.767757Z"
    },
    "papermill": {
     "duration": 180.132566,
     "end_time": "2023-05-22T19:21:06.772155",
     "exception": false,
     "start_time": "2023-05-22T19:18:06.639589",
     "status": "completed"
    },
    "tags": []
   },
   "outputs": [
    {
     "ename": "",
     "evalue": "",
     "output_type": "error",
     "traceback": [
      "\u001b[1;31mRunning cells with 'c:\\Users\\Cathy\\AppData\\Local\\Programs\\Python\\Python311\\python.exe' requires the ipykernel package.\n",
      "\u001b[1;31mRun the following command to install 'ipykernel' into the Python environment. \n",
      "\u001b[1;31mCommand: 'c:/Users/Cathy/AppData/Local/Programs/Python/Python311/python.exe -m pip install ipykernel -U --user --force-reinstall'"
     ]
    }
   ],
   "source": [
    "features.to_csv('/kaggle/working/features.csv', index=False, header=False)"
   ]
  },
  {
   "cell_type": "code",
   "execution_count": null,
   "id": "e8d7a9bf",
   "metadata": {
    "execution": {
     "iopub.execute_input": "2023-05-22T19:21:06.824212Z",
     "iopub.status.busy": "2023-05-22T19:21:06.823807Z",
     "iopub.status.idle": "2023-05-22T19:21:08.142613Z",
     "shell.execute_reply": "2023-05-22T19:21:08.141257Z"
    },
    "papermill": {
     "duration": 1.348143,
     "end_time": "2023-05-22T19:21:08.145789",
     "exception": false,
     "start_time": "2023-05-22T19:21:06.797646",
     "status": "completed"
    },
    "tags": []
   },
   "outputs": [
    {
     "ename": "",
     "evalue": "",
     "output_type": "error",
     "traceback": [
      "\u001b[1;31mRunning cells with 'c:\\Users\\Cathy\\AppData\\Local\\Programs\\Python\\Python311\\python.exe' requires the ipykernel package.\n",
      "\u001b[1;31mRun the following command to install 'ipykernel' into the Python environment. \n",
      "\u001b[1;31mCommand: 'c:/Users/Cathy/AppData/Local/Programs/Python/Python311/python.exe -m pip install ipykernel -U --user --force-reinstall'"
     ]
    }
   ],
   "source": [
    "transaction_df[['TransactionID', 'isFraud']].to_csv('/kaggle/working/tags.csv', index=False)"
   ]
  },
  {
   "cell_type": "code",
   "execution_count": null,
   "id": "d4638ece",
   "metadata": {
    "execution": {
     "iopub.execute_input": "2023-05-22T19:21:08.197787Z",
     "iopub.status.busy": "2023-05-22T19:21:08.197370Z",
     "iopub.status.idle": "2023-05-22T19:21:08.202763Z",
     "shell.execute_reply": "2023-05-22T19:21:08.201859Z"
    },
    "papermill": {
     "duration": 0.034095,
     "end_time": "2023-05-22T19:21:08.205221",
     "exception": false,
     "start_time": "2023-05-22T19:21:08.171126",
     "status": "completed"
    },
    "tags": []
   },
   "outputs": [
    {
     "ename": "",
     "evalue": "",
     "output_type": "error",
     "traceback": [
      "\u001b[1;31mRunning cells with 'c:\\Users\\Cathy\\AppData\\Local\\Programs\\Python\\Python311\\python.exe' requires the ipykernel package.\n",
      "\u001b[1;31mRun the following command to install 'ipykernel' into the Python environment. \n",
      "\u001b[1;31mCommand: 'c:/Users/Cathy/AppData/Local/Programs/Python/Python311/python.exe -m pip install ipykernel -U --user --force-reinstall'"
     ]
    }
   ],
   "source": [
    "edge_types = id_cols + list(identity_df.columns)\n",
    "print(edge_types)"
   ]
  },
  {
   "cell_type": "code",
   "execution_count": null,
   "id": "1847e0f7",
   "metadata": {
    "execution": {
     "iopub.execute_input": "2023-05-22T19:21:08.258484Z",
     "iopub.status.busy": "2023-05-22T19:21:08.258002Z",
     "iopub.status.idle": "2023-05-22T19:21:08.921371Z",
     "shell.execute_reply": "2023-05-22T19:21:08.920183Z"
    },
    "papermill": {
     "duration": 0.693964,
     "end_time": "2023-05-22T19:21:08.924166",
     "exception": false,
     "start_time": "2023-05-22T19:21:08.230202",
     "status": "completed"
    },
    "tags": []
   },
   "outputs": [
    {
     "ename": "",
     "evalue": "",
     "output_type": "error",
     "traceback": [
      "\u001b[1;31mRunning cells with 'c:\\Users\\Cathy\\AppData\\Local\\Programs\\Python\\Python311\\python.exe' requires the ipykernel package.\n",
      "\u001b[1;31mRun the following command to install 'ipykernel' into the Python environment. \n",
      "\u001b[1;31mCommand: 'c:/Users/Cathy/AppData/Local/Programs/Python/Python311/python.exe -m pip install ipykernel -U --user --force-reinstall'"
     ]
    }
   ],
   "source": [
    "all_id_cols = ['TransactionID'] + id_cols\n",
    "full_identity_df = transaction_df[all_id_cols].merge(identity_df, on='TransactionID', how='left')\n",
    "full_identity_df.head(5)"
   ]
  },
  {
   "cell_type": "code",
   "execution_count": null,
   "id": "75db666e",
   "metadata": {
    "execution": {
     "iopub.execute_input": "2023-05-22T19:21:08.979216Z",
     "iopub.status.busy": "2023-05-22T19:21:08.978806Z",
     "iopub.status.idle": "2023-05-22T19:21:41.127781Z",
     "shell.execute_reply": "2023-05-22T19:21:41.126577Z"
    },
    "papermill": {
     "duration": 32.206779,
     "end_time": "2023-05-22T19:21:41.158523",
     "exception": false,
     "start_time": "2023-05-22T19:21:08.951744",
     "status": "completed"
    },
    "tags": []
   },
   "outputs": [
    {
     "ename": "",
     "evalue": "",
     "output_type": "error",
     "traceback": [
      "\u001b[1;31mRunning cells with 'c:\\Users\\Cathy\\AppData\\Local\\Programs\\Python\\Python311\\python.exe' requires the ipykernel package.\n",
      "\u001b[1;31mRun the following command to install 'ipykernel' into the Python environment. \n",
      "\u001b[1;31mCommand: 'c:/Users/Cathy/AppData/Local/Programs/Python/Python311/python.exe -m pip install ipykernel -U --user --force-reinstall'"
     ]
    }
   ],
   "source": [
    "edges = {}\n",
    "for etype in edge_types:\n",
    "    edgelist = full_identity_df[['TransactionID', etype]].dropna()\n",
    "    edgelist.to_csv('/kaggle/working/relation_{}_edgelist.csv'.format(etype), index=False, header=True)\n",
    "    edges[etype] = edgelist\n",
    "\n",
    "print(edges)"
   ]
  },
  {
   "cell_type": "markdown",
   "id": "d6a89e34",
   "metadata": {
    "papermill": {
     "duration": 0.026633,
     "end_time": "2023-05-22T19:21:41.213165",
     "exception": false,
     "start_time": "2023-05-22T19:21:41.186532",
     "status": "completed"
    },
    "tags": []
   },
   "source": [
    "# **Modeling**"
   ]
  },
  {
   "cell_type": "markdown",
   "id": "03677e48",
   "metadata": {
    "papermill": {
     "duration": 0.02638,
     "end_time": "2023-05-22T19:21:41.266154",
     "exception": false,
     "start_time": "2023-05-22T19:21:41.239774",
     "status": "completed"
    },
    "tags": []
   },
   "source": [
    "**installs**"
   ]
  },
  {
   "cell_type": "code",
   "execution_count": null,
   "id": "84c0d6b2",
   "metadata": {
    "execution": {
     "iopub.execute_input": "2023-05-22T19:21:41.323363Z",
     "iopub.status.busy": "2023-05-22T19:21:41.322708Z",
     "iopub.status.idle": "2023-05-22T19:21:58.077804Z",
     "shell.execute_reply": "2023-05-22T19:21:58.076428Z"
    },
    "papermill": {
     "duration": 16.786092,
     "end_time": "2023-05-22T19:21:58.080596",
     "exception": false,
     "start_time": "2023-05-22T19:21:41.294504",
     "status": "completed"
    },
    "tags": []
   },
   "outputs": [
    {
     "ename": "",
     "evalue": "",
     "output_type": "error",
     "traceback": [
      "\u001b[1;31mRunning cells with 'c:\\Users\\Cathy\\AppData\\Local\\Programs\\Python\\Python311\\python.exe' requires the ipykernel package.\n",
      "\u001b[1;31mRun the following command to install 'ipykernel' into the Python environment. \n",
      "\u001b[1;31mCommand: 'c:/Users/Cathy/AppData/Local/Programs/Python/Python311/python.exe -m pip install ipykernel -U --user --force-reinstall'"
     ]
    }
   ],
   "source": [
    "!pip install dgl"
   ]
  },
  {
   "cell_type": "code",
   "execution_count": null,
   "id": "14e03e91",
   "metadata": {
    "execution": {
     "iopub.execute_input": "2023-05-22T19:21:58.138253Z",
     "iopub.status.busy": "2023-05-22T19:21:58.137793Z",
     "iopub.status.idle": "2023-05-22T19:22:03.733604Z",
     "shell.execute_reply": "2023-05-22T19:22:03.732478Z"
    },
    "papermill": {
     "duration": 5.62828,
     "end_time": "2023-05-22T19:22:03.736513",
     "exception": false,
     "start_time": "2023-05-22T19:21:58.108233",
     "status": "completed"
    },
    "tags": []
   },
   "outputs": [
    {
     "ename": "",
     "evalue": "",
     "output_type": "error",
     "traceback": [
      "\u001b[1;31mRunning cells with 'c:\\Users\\Cathy\\AppData\\Local\\Programs\\Python\\Python311\\python.exe' requires the ipykernel package.\n",
      "\u001b[1;31mRun the following command to install 'ipykernel' into the Python environment. \n",
      "\u001b[1;31mCommand: 'c:/Users/Cathy/AppData/Local/Programs/Python/Python311/python.exe -m pip install ipykernel -U --user --force-reinstall'"
     ]
    }
   ],
   "source": [
    "import os\n",
    "import sys\n",
    "import glob\n",
    "\n",
    "os.environ['DGLBACKEND'] = 'pytorch'\n",
    "\n",
    "import torch as th\n",
    "import dgl\n",
    "import numpy as np"
   ]
  },
  {
   "cell_type": "markdown",
   "id": "19d0310c",
   "metadata": {
    "papermill": {
     "duration": 0.027683,
     "end_time": "2023-05-22T19:22:03.791901",
     "exception": false,
     "start_time": "2023-05-22T19:22:03.764218",
     "status": "completed"
    },
    "tags": []
   },
   "source": [
    "*estimator_fns*"
   ]
  },
  {
   "cell_type": "code",
   "execution_count": null,
   "id": "7f9d7cfe",
   "metadata": {
    "execution": {
     "iopub.execute_input": "2023-05-22T19:22:03.849528Z",
     "iopub.status.busy": "2023-05-22T19:22:03.848646Z",
     "iopub.status.idle": "2023-05-22T19:22:03.854819Z",
     "shell.execute_reply": "2023-05-22T19:22:03.853544Z"
    },
    "papermill": {
     "duration": 0.038141,
     "end_time": "2023-05-22T19:22:03.857669",
     "exception": false,
     "start_time": "2023-05-22T19:22:03.819528",
     "status": "completed"
    },
    "tags": []
   },
   "outputs": [
    {
     "ename": "",
     "evalue": "",
     "output_type": "error",
     "traceback": [
      "\u001b[1;31mRunning cells with 'c:\\Users\\Cathy\\AppData\\Local\\Programs\\Python\\Python311\\python.exe' requires the ipykernel package.\n",
      "\u001b[1;31mRun the following command to install 'ipykernel' into the Python environment. \n",
      "\u001b[1;31mCommand: 'c:/Users/Cathy/AppData/Local/Programs/Python/Python311/python.exe -m pip install ipykernel -U --user --force-reinstall'"
     ]
    }
   ],
   "source": [
    "import os\n",
    "import argparse\n",
    "import logging\n",
    "import datetime"
   ]
  },
  {
   "cell_type": "code",
   "execution_count": null,
   "id": "6ab27a7e",
   "metadata": {
    "execution": {
     "iopub.execute_input": "2023-05-22T19:22:03.916217Z",
     "iopub.status.busy": "2023-05-22T19:22:03.915818Z",
     "iopub.status.idle": "2023-05-22T19:22:03.931689Z",
     "shell.execute_reply": "2023-05-22T19:22:03.930417Z"
    },
    "papermill": {
     "duration": 0.049485,
     "end_time": "2023-05-22T19:22:03.935147",
     "exception": false,
     "start_time": "2023-05-22T19:22:03.885662",
     "status": "completed"
    },
    "tags": []
   },
   "outputs": [
    {
     "ename": "",
     "evalue": "",
     "output_type": "error",
     "traceback": [
      "\u001b[1;31mRunning cells with 'c:\\Users\\Cathy\\AppData\\Local\\Programs\\Python\\Python311\\python.exe' requires the ipykernel package.\n",
      "\u001b[1;31mRun the following command to install 'ipykernel' into the Python environment. \n",
      "\u001b[1;31mCommand: 'c:/Users/Cathy/AppData/Local/Programs/Python/Python311/python.exe -m pip install ipykernel -U --user --force-reinstall'"
     ]
    }
   ],
   "source": [
    "def parse_args():\n",
    "    parser = argparse.ArgumentParser()\n",
    "    parser.add_argument('--training-dir', type=str, default='/kaggle/working')\n",
    "    dt = datetime.datetime.now().strftime('%Y_%m_%d_%H_%M_%S')\n",
    "    parser.add_argument('--model-dir', type=str, default='/kaggle/working'+dt)\n",
    "    parser.add_argument('--output-dir', type=str, default='/kaggle/working')\n",
    "    parser.add_argument('--nodes', type=str, default='/kaggle/working/features.csv')\n",
    "    parser.add_argument('--target-ntype', type=str, default='TransactionID')\n",
    "    parser.add_argument('--edges', type=str, default='/kaggle/working/relation*')\n",
    "    parser.add_argument('--labels', type=str, default='/kaggle/working/tags.csv')\n",
    "    parser.add_argument('--new-accounts', type=str, default='/kaggle/working/test.csv')\n",
    "    parser.add_argument('--compute-metrics', type=lambda x: (str(x).lower() in ['true', '1', 'yes']),\n",
    "                        default=True, help='compute evaluation metrics after training')\n",
    "    parser.add_argument('--threshold', type=float, default=0, help='threshold for making predictions, default : argmax')\n",
    "    parser.add_argument('--num-gpus', type=int, default=0)\n",
    "    parser.add_argument('--optimizer', type=str, default='adam')\n",
    "    parser.add_argument('--lr', type=float, default=1e-2)\n",
    "    parser.add_argument('--n-epochs', type=int, default=15)\n",
    "    parser.add_argument('--n-hidden', type=int, default=32, help='number of hidden units')\n",
    "    parser.add_argument('--n-layers', type=int, default=6, help='number of hidden layers')\n",
    "    parser.add_argument('--weight-decay', type=float, default=5e-4, help='Weight for L2 loss')\n",
    "    parser.add_argument('--dropout', type=float, default=0.2, help='dropout probability, for gat only features')\n",
    "    parser.add_argument('--embedding-size', type=int, default=360, help=\"embedding size for node embedding\")\n",
    "    return parser.parse_known_args()[0]\n",
    "\n",
    "\n",
    "def get_logger(name):\n",
    "    logger = logging.getLogger(name)\n",
    "    log_format = '%(asctime)s %(levelname)s %(name)s: %(message)s'\n",
    "    logging.basicConfig(format=log_format, level=logging.INFO)\n",
    "    logger.setLevel(logging.INFO)\n",
    "    return logger"
   ]
  },
  {
   "cell_type": "markdown",
   "id": "2d6b09af",
   "metadata": {
    "papermill": {
     "duration": 0.027294,
     "end_time": "2023-05-22T19:22:03.991983",
     "exception": false,
     "start_time": "2023-05-22T19:22:03.964689",
     "status": "completed"
    },
    "tags": []
   },
   "source": [
    "*graph_utils*"
   ]
  },
  {
   "cell_type": "code",
   "execution_count": null,
   "id": "46ccb8c2",
   "metadata": {
    "execution": {
     "iopub.execute_input": "2023-05-22T19:22:04.051261Z",
     "iopub.status.busy": "2023-05-22T19:22:04.050456Z",
     "iopub.status.idle": "2023-05-22T19:22:04.056213Z",
     "shell.execute_reply": "2023-05-22T19:22:04.055277Z"
    },
    "papermill": {
     "duration": 0.038686,
     "end_time": "2023-05-22T19:22:04.058946",
     "exception": false,
     "start_time": "2023-05-22T19:22:04.020260",
     "status": "completed"
    },
    "tags": []
   },
   "outputs": [
    {
     "ename": "",
     "evalue": "",
     "output_type": "error",
     "traceback": [
      "\u001b[1;31mRunning cells with 'c:\\Users\\Cathy\\AppData\\Local\\Programs\\Python\\Python311\\python.exe' requires the ipykernel package.\n",
      "\u001b[1;31mRun the following command to install 'ipykernel' into the Python environment. \n",
      "\u001b[1;31mCommand: 'c:/Users/Cathy/AppData/Local/Programs/Python/Python311/python.exe -m pip install ipykernel -U --user --force-reinstall'"
     ]
    }
   ],
   "source": [
    "import os\n",
    "import re\n",
    "import dgl\n",
    "import numpy as np\n",
    "import torch as th\n",
    "import logging\n",
    "#from data import parse_edgelist, get_features, read_edges, read_masked_nodes\n",
    "import pandas as pd"
   ]
  },
  {
   "cell_type": "code",
   "execution_count": null,
   "id": "a51c4f56",
   "metadata": {
    "execution": {
     "iopub.execute_input": "2023-05-22T19:22:04.116995Z",
     "iopub.status.busy": "2023-05-22T19:22:04.116214Z",
     "iopub.status.idle": "2023-05-22T19:22:04.125876Z",
     "shell.execute_reply": "2023-05-22T19:22:04.124885Z"
    },
    "papermill": {
     "duration": 0.041244,
     "end_time": "2023-05-22T19:22:04.128477",
     "exception": false,
     "start_time": "2023-05-22T19:22:04.087233",
     "status": "completed"
    },
    "tags": []
   },
   "outputs": [
    {
     "ename": "",
     "evalue": "",
     "output_type": "error",
     "traceback": [
      "\u001b[1;31mRunning cells with 'c:\\Users\\Cathy\\AppData\\Local\\Programs\\Python\\Python311\\python.exe' requires the ipykernel package.\n",
      "\u001b[1;31mRun the following command to install 'ipykernel' into the Python environment. \n",
      "\u001b[1;31mCommand: 'c:/Users/Cathy/AppData/Local/Programs/Python/Python311/python.exe -m pip install ipykernel -U --user --force-reinstall'"
     ]
    }
   ],
   "source": [
    "def get_features(id_to_node, node_features):\n",
    "    \"\"\"\n",
    "    :param id_to_node: dictionary mapping node names(id) to dgl node idx\n",
    "    :param node_features: path to file containing node features\n",
    "    :return: (np.ndarray, list) node feature matrix in order and new nodes not yet in the graph\n",
    "    \"\"\"\n",
    "    indices, features, new_nodes = [], [], []\n",
    "    max_node = max(id_to_node.values())\n",
    "    is_1st_line = True\n",
    "    with open(node_features, \"r\") as fh:\n",
    "        for line in fh:\n",
    "            node_feats = line.strip().split(\",\")\n",
    "            node_id = node_feats[0]\n",
    "            feats = np.array(list(map(float, node_feats[1:])))\n",
    "            features.append(feats)\n",
    "            if node_id not in id_to_node:\n",
    "                max_node += 1\n",
    "                id_to_node[node_id] = max_node\n",
    "                new_nodes.append(max_node)\n",
    "            indices.append(id_to_node[node_id])\n",
    "    features = np.array(features).astype('float32')\n",
    "    features = features[np.argsort(indices), :]\n",
    "    return features, new_nodes"
   ]
  },
  {
   "cell_type": "code",
   "execution_count": null,
   "id": "b5f6687f",
   "metadata": {
    "execution": {
     "iopub.execute_input": "2023-05-22T19:22:04.187931Z",
     "iopub.status.busy": "2023-05-22T19:22:04.186772Z",
     "iopub.status.idle": "2023-05-22T19:22:04.195092Z",
     "shell.execute_reply": "2023-05-22T19:22:04.194223Z"
    },
    "papermill": {
     "duration": 0.040926,
     "end_time": "2023-05-22T19:22:04.197444",
     "exception": false,
     "start_time": "2023-05-22T19:22:04.156518",
     "status": "completed"
    },
    "tags": []
   },
   "outputs": [
    {
     "ename": "",
     "evalue": "",
     "output_type": "error",
     "traceback": [
      "\u001b[1;31mRunning cells with 'c:\\Users\\Cathy\\AppData\\Local\\Programs\\Python\\Python311\\python.exe' requires the ipykernel package.\n",
      "\u001b[1;31mRun the following command to install 'ipykernel' into the Python environment. \n",
      "\u001b[1;31mCommand: 'c:/Users/Cathy/AppData/Local/Programs/Python/Python311/python.exe -m pip install ipykernel -U --user --force-reinstall'"
     ]
    }
   ],
   "source": [
    "def get_labels(id_to_node, n_nodes, target_node_type, labels_path, masked_nodes_path, additional_mask_rate=0):\n",
    "    \"\"\"\n",
    "    :param id_to_node: dictionary mapping node names(id) to dgl node idx\n",
    "    :param n_nodes: number of user nodes in the graph\n",
    "    :param target_node_type: column name for target node type\n",
    "    :param labels_path: filepath containing labelled nodes\n",
    "    :param masked_nodes_path: filepath containing list of nodes to be masked\n",
    "    :param additional_mask_rate: additional_mask_rate: float for additional masking of nodes with labels during training\n",
    "    :return: (list, list) train and test mask array\n",
    "    \"\"\"\n",
    "    node_to_id = {v: k for k, v in id_to_node.items()}\n",
    "    user_to_label = pd.read_csv(labels_path).set_index(target_node_type)\n",
    "    labels = user_to_label.loc[map(int, pd.Series(node_to_id)[np.arange(n_nodes)].values)].values.flatten()\n",
    "    masked_nodes = read_masked_nodes(masked_nodes_path)\n",
    "    train_mask, test_mask = _get_mask(id_to_node, node_to_id, n_nodes, masked_nodes,\n",
    "                                      additional_mask_rate=additional_mask_rate)\n",
    "    return labels, train_mask, test_mask\n"
   ]
  },
  {
   "cell_type": "code",
   "execution_count": null,
   "id": "0c303c4b",
   "metadata": {
    "execution": {
     "iopub.execute_input": "2023-05-22T19:22:04.255011Z",
     "iopub.status.busy": "2023-05-22T19:22:04.253985Z",
     "iopub.status.idle": "2023-05-22T19:22:04.260052Z",
     "shell.execute_reply": "2023-05-22T19:22:04.258991Z"
    },
    "papermill": {
     "duration": 0.037936,
     "end_time": "2023-05-22T19:22:04.262819",
     "exception": false,
     "start_time": "2023-05-22T19:22:04.224883",
     "status": "completed"
    },
    "tags": []
   },
   "outputs": [
    {
     "ename": "",
     "evalue": "",
     "output_type": "error",
     "traceback": [
      "\u001b[1;31mRunning cells with 'c:\\Users\\Cathy\\AppData\\Local\\Programs\\Python\\Python311\\python.exe' requires the ipykernel package.\n",
      "\u001b[1;31mRun the following command to install 'ipykernel' into the Python environment. \n",
      "\u001b[1;31mCommand: 'c:/Users/Cathy/AppData/Local/Programs/Python/Python311/python.exe -m pip install ipykernel -U --user --force-reinstall'"
     ]
    }
   ],
   "source": [
    "def read_masked_nodes(masked_nodes_path):\n",
    "    \"\"\"\n",
    "    Returns a list of nodes extracted from the path passed in\n",
    "    :param masked_nodes_path: filepath containing list of nodes to be masked i.e test users\n",
    "    :return: list\n",
    "    \"\"\"\n",
    "    with open(masked_nodes_path, \"r\") as fh:\n",
    "        masked_nodes = [line.strip() for line in fh]\n",
    "    return masked_nodes"
   ]
  },
  {
   "cell_type": "code",
   "execution_count": null,
   "id": "e8901bd3",
   "metadata": {
    "execution": {
     "iopub.execute_input": "2023-05-22T19:22:04.321168Z",
     "iopub.status.busy": "2023-05-22T19:22:04.320416Z",
     "iopub.status.idle": "2023-05-22T19:22:04.328733Z",
     "shell.execute_reply": "2023-05-22T19:22:04.327630Z"
    },
    "papermill": {
     "duration": 0.040607,
     "end_time": "2023-05-22T19:22:04.331428",
     "exception": false,
     "start_time": "2023-05-22T19:22:04.290821",
     "status": "completed"
    },
    "tags": []
   },
   "outputs": [
    {
     "ename": "",
     "evalue": "",
     "output_type": "error",
     "traceback": [
      "\u001b[1;31mRunning cells with 'c:\\Users\\Cathy\\AppData\\Local\\Programs\\Python\\Python311\\python.exe' requires the ipykernel package.\n",
      "\u001b[1;31mRun the following command to install 'ipykernel' into the Python environment. \n",
      "\u001b[1;31mCommand: 'c:/Users/Cathy/AppData/Local/Programs/Python/Python311/python.exe -m pip install ipykernel -U --user --force-reinstall'"
     ]
    }
   ],
   "source": [
    "def _get_mask(id_to_node, node_to_id, num_nodes, masked_nodes, additional_mask_rate):\n",
    "    \"\"\"\n",
    "    Returns the train and test mask arrays\n",
    "    :param id_to_node: dictionary mapping node names(id) to dgl node idx\n",
    "    :param node_to_id: dictionary mapping dgl node idx to node names(id)\n",
    "    :param num_nodes: number of user/account nodes in the graph\n",
    "    :param masked_nodes: list of nodes to be masked during training, nodes without labels\n",
    "    :param additional_mask_rate: float for additional masking of nodes with labels during training\n",
    "    :return: (list, list) train and test mask array\n",
    "    \"\"\"\n",
    "    train_mask = np.ones(num_nodes)\n",
    "    test_mask = np.zeros(num_nodes)\n",
    "    for node_id in masked_nodes:\n",
    "        train_mask[id_to_node[node_id]] = 0\n",
    "        test_mask[id_to_node[node_id]] = 1\n",
    "    if additional_mask_rate and additional_mask_rate < 1:\n",
    "        unmasked = np.array([idx for idx in range(num_nodes) if node_to_id[idx] not in masked_nodes])\n",
    "        yet_unmasked = np.random.permutation(unmasked)[:int(additional_mask_rate*num_nodes)]\n",
    "        train_mask[yet_unmasked] = 0\n",
    "    return train_mask, test_mask"
   ]
  },
  {
   "cell_type": "code",
   "execution_count": null,
   "id": "301c94ae",
   "metadata": {
    "execution": {
     "iopub.execute_input": "2023-05-22T19:22:04.389135Z",
     "iopub.status.busy": "2023-05-22T19:22:04.388378Z",
     "iopub.status.idle": "2023-05-22T19:22:04.395561Z",
     "shell.execute_reply": "2023-05-22T19:22:04.394120Z"
    },
    "papermill": {
     "duration": 0.039621,
     "end_time": "2023-05-22T19:22:04.398554",
     "exception": false,
     "start_time": "2023-05-22T19:22:04.358933",
     "status": "completed"
    },
    "tags": []
   },
   "outputs": [
    {
     "ename": "",
     "evalue": "",
     "output_type": "error",
     "traceback": [
      "\u001b[1;31mRunning cells with 'c:\\Users\\Cathy\\AppData\\Local\\Programs\\Python\\Python311\\python.exe' requires the ipykernel package.\n",
      "\u001b[1;31mRun the following command to install 'ipykernel' into the Python environment. \n",
      "\u001b[1;31mCommand: 'c:/Users/Cathy/AppData/Local/Programs/Python/Python311/python.exe -m pip install ipykernel -U --user --force-reinstall'"
     ]
    }
   ],
   "source": [
    "def _get_node_idx(id_to_node, node_type, node_id, ptr):\n",
    "    if node_type in id_to_node:\n",
    "        if node_id in id_to_node[node_type]:\n",
    "            node_idx = id_to_node[node_type][node_id]\n",
    "        else:\n",
    "            id_to_node[node_type][node_id] = ptr\n",
    "            node_idx = ptr\n",
    "            ptr += 1\n",
    "    else:\n",
    "        id_to_node[node_type] = {}\n",
    "        id_to_node[node_type][node_id] = ptr\n",
    "        node_idx = ptr\n",
    "        ptr += 1\n",
    "\n",
    "    return node_idx, id_to_node, ptr"
   ]
  },
  {
   "cell_type": "code",
   "execution_count": null,
   "id": "40175451",
   "metadata": {
    "execution": {
     "iopub.execute_input": "2023-05-22T19:22:04.455724Z",
     "iopub.status.busy": "2023-05-22T19:22:04.455255Z",
     "iopub.status.idle": "2023-05-22T19:22:04.466962Z",
     "shell.execute_reply": "2023-05-22T19:22:04.465820Z"
    },
    "papermill": {
     "duration": 0.043759,
     "end_time": "2023-05-22T19:22:04.469695",
     "exception": false,
     "start_time": "2023-05-22T19:22:04.425936",
     "status": "completed"
    },
    "tags": []
   },
   "outputs": [
    {
     "ename": "",
     "evalue": "",
     "output_type": "error",
     "traceback": [
      "\u001b[1;31mRunning cells with 'c:\\Users\\Cathy\\AppData\\Local\\Programs\\Python\\Python311\\python.exe' requires the ipykernel package.\n",
      "\u001b[1;31mRun the following command to install 'ipykernel' into the Python environment. \n",
      "\u001b[1;31mCommand: 'c:/Users/Cathy/AppData/Local/Programs/Python/Python311/python.exe -m pip install ipykernel -U --user --force-reinstall'"
     ]
    }
   ],
   "source": [
    "def parse_edgelist(edges, id_to_node, header=False, source_type='user', sink_type='user'):\n",
    "    \"\"\"\n",
    "    Parse an edgelist path file and return the edges as a list of tuple\n",
    "    :param edges: path to comma separated file containing bipartite edges with header for edgetype\n",
    "    :param id_to_node: dictionary containing mapping for node names(id) to dgl node indices\n",
    "    :param header: boolean whether or not the file has a header row\n",
    "    :param source_type: type of the source node in the edge. defaults to 'user' if no header\n",
    "    :param sink_type: type of the sink node in the edge. defaults to 'user' if no header.\n",
    "    :return: (list, dict) a list containing edges of a single relationship type as tuples and updated id_to_node dict.\n",
    "    \"\"\"\n",
    "    edge_list = []\n",
    "    rev_edge_list = []\n",
    "    source_pointer, sink_pointer = 0, 0\n",
    "    with open(edges, \"r\") as fh:\n",
    "        for i, line in enumerate(fh):\n",
    "            source, sink = line.strip().split(\",\")\n",
    "            if i == 0:\n",
    "                if header:\n",
    "                    source_type, sink_type = source, sink\n",
    "                if source_type in id_to_node:\n",
    "                    source_pointer = max(id_to_node[source_type].values()) + 1\n",
    "                if sink_type in id_to_node:\n",
    "                    sink_pointer = max(id_to_node[sink_type].values()) + 1\n",
    "                continue\n",
    "\n",
    "            source_node, id_to_node, source_pointer = _get_node_idx(id_to_node, source_type, source, source_pointer)\n",
    "            if source_type == sink_type:\n",
    "                sink_node, id_to_node, source_pointer = _get_node_idx(id_to_node, sink_type, sink, source_pointer)\n",
    "            else:\n",
    "                sink_node, id_to_node, sink_pointer = _get_node_idx(id_to_node, sink_type, sink, sink_pointer)\n",
    "\n",
    "            edge_list.append((source_node, sink_node))\n",
    "            rev_edge_list.append((sink_node, source_node))\n",
    "\n",
    "    return edge_list, rev_edge_list, id_to_node, source_type, sink_type"
   ]
  },
  {
   "cell_type": "code",
   "execution_count": null,
   "id": "66c19e79",
   "metadata": {
    "execution": {
     "iopub.execute_input": "2023-05-22T19:22:04.527405Z",
     "iopub.status.busy": "2023-05-22T19:22:04.526953Z",
     "iopub.status.idle": "2023-05-22T19:22:04.539574Z",
     "shell.execute_reply": "2023-05-22T19:22:04.538356Z"
    },
    "papermill": {
     "duration": 0.044288,
     "end_time": "2023-05-22T19:22:04.541904",
     "exception": false,
     "start_time": "2023-05-22T19:22:04.497616",
     "status": "completed"
    },
    "tags": []
   },
   "outputs": [
    {
     "ename": "",
     "evalue": "",
     "output_type": "error",
     "traceback": [
      "\u001b[1;31mRunning cells with 'c:\\Users\\Cathy\\AppData\\Local\\Programs\\Python\\Python311\\python.exe' requires the ipykernel package.\n",
      "\u001b[1;31mRun the following command to install 'ipykernel' into the Python environment. \n",
      "\u001b[1;31mCommand: 'c:/Users/Cathy/AppData/Local/Programs/Python/Python311/python.exe -m pip install ipykernel -U --user --force-reinstall'"
     ]
    }
   ],
   "source": [
    "def read_edges(edges, nodes=None):\n",
    "    \"\"\"\n",
    "    Read edges and node features\n",
    "    :param edges: path to comma separated file containing all edges\n",
    "    :param nodes: path to comma separated file containing all nodes + features\n",
    "    :return: (list, list, list, dict) sources, sinks, features and id_to_node dictionary containing mappings\n",
    "    from node names(id) to dgl node indices\n",
    "    \"\"\"\n",
    "    node_pointer = 0\n",
    "    id_to_node = {}\n",
    "    features = []\n",
    "    sources, sinks = [], []\n",
    "    if nodes is not None:\n",
    "        with open(nodes, \"r\") as fh:\n",
    "            for line in fh:\n",
    "                node_feats = line.strip().split(\",\")\n",
    "                node_id = node_feats[0]\n",
    "                if node_id not in id_to_node:\n",
    "                    id_to_node[node_id] = node_pointer\n",
    "                    node_pointer += 1\n",
    "                    if len(node_feats) > 1:\n",
    "                        feats = np.array(list(map(float, node_feats[1:])))\n",
    "                        features.append(feats)\n",
    "        with open(edges, \"r\") as fh:\n",
    "            for line in fh:\n",
    "                source, sink = line.strip().split(\",\")\n",
    "                sources.append(id_to_node[source])\n",
    "                sinks.append(id_to_node[sink])\n",
    "    else:\n",
    "        with open(edges, \"r\") as fh:\n",
    "            for line in fh:\n",
    "                source, sink = line.strip().split(\",\")\n",
    "                if source not in id_to_node:\n",
    "                    id_to_node[source] = node_pointer\n",
    "                    node_pointer += 1\n",
    "                if sink not in id_to_node:\n",
    "                    id_to_node[sink] = node_pointer\n",
    "                    node_pointer += 1\n",
    "                sources.append(id_to_node[source])\n",
    "                sinks.append(id_to_node[sink])\n",
    "\n",
    "    return sources, sinks, features, id_to_node"
   ]
  },
  {
   "cell_type": "code",
   "execution_count": null,
   "id": "1d3067e0",
   "metadata": {
    "execution": {
     "iopub.execute_input": "2023-05-22T19:22:04.599961Z",
     "iopub.status.busy": "2023-05-22T19:22:04.598938Z",
     "iopub.status.idle": "2023-05-22T19:22:04.605010Z",
     "shell.execute_reply": "2023-05-22T19:22:04.604167Z"
    },
    "papermill": {
     "duration": 0.038259,
     "end_time": "2023-05-22T19:22:04.607465",
     "exception": false,
     "start_time": "2023-05-22T19:22:04.569206",
     "status": "completed"
    },
    "tags": []
   },
   "outputs": [
    {
     "ename": "",
     "evalue": "",
     "output_type": "error",
     "traceback": [
      "\u001b[1;31mRunning cells with 'c:\\Users\\Cathy\\AppData\\Local\\Programs\\Python\\Python311\\python.exe' requires the ipykernel package.\n",
      "\u001b[1;31mRun the following command to install 'ipykernel' into the Python environment. \n",
      "\u001b[1;31mCommand: 'c:/Users/Cathy/AppData/Local/Programs/Python/Python311/python.exe -m pip install ipykernel -U --user --force-reinstall'"
     ]
    }
   ],
   "source": [
    "def get_logger(name):\n",
    "    logger = logging.getLogger(name)\n",
    "    log_format = '%(asctime)s %(levelname)s %(name)s: %(message)s'\n",
    "    logging.basicConfig(format=log_format, level=logging.INFO)\n",
    "    logger.setLevel(logging.INFO)\n",
    "    return logger\n",
    "\n",
    "logging = get_logger(__name__)"
   ]
  },
  {
   "cell_type": "code",
   "execution_count": null,
   "id": "ecbaf79f",
   "metadata": {
    "execution": {
     "iopub.execute_input": "2023-05-22T19:22:04.665250Z",
     "iopub.status.busy": "2023-05-22T19:22:04.664495Z",
     "iopub.status.idle": "2023-05-22T19:22:04.670367Z",
     "shell.execute_reply": "2023-05-22T19:22:04.669389Z"
    },
    "papermill": {
     "duration": 0.037509,
     "end_time": "2023-05-22T19:22:04.672981",
     "exception": false,
     "start_time": "2023-05-22T19:22:04.635472",
     "status": "completed"
    },
    "tags": []
   },
   "outputs": [
    {
     "ename": "",
     "evalue": "",
     "output_type": "error",
     "traceback": [
      "\u001b[1;31mRunning cells with 'c:\\Users\\Cathy\\AppData\\Local\\Programs\\Python\\Python311\\python.exe' requires the ipykernel package.\n",
      "\u001b[1;31mRun the following command to install 'ipykernel' into the Python environment. \n",
      "\u001b[1;31mCommand: 'c:/Users/Cathy/AppData/Local/Programs/Python/Python311/python.exe -m pip install ipykernel -U --user --force-reinstall'"
     ]
    }
   ],
   "source": [
    "def get_edgelists(edgelist_expression, directory):\n",
    "    if \",\" in edgelist_expression:\n",
    "        return edgelist_expression.split(\",\")\n",
    "    files = os.listdir(directory)\n",
    "    compiled_expression = re.compile(edgelist_expression)\n",
    "    return [filename for filename in files if compiled_expression.match(filename)]"
   ]
  },
  {
   "cell_type": "code",
   "execution_count": null,
   "id": "df86bbf8",
   "metadata": {
    "execution": {
     "iopub.execute_input": "2023-05-22T19:22:04.730056Z",
     "iopub.status.busy": "2023-05-22T19:22:04.729289Z",
     "iopub.status.idle": "2023-05-22T19:22:04.741787Z",
     "shell.execute_reply": "2023-05-22T19:22:04.740561Z"
    },
    "papermill": {
     "duration": 0.044268,
     "end_time": "2023-05-22T19:22:04.744775",
     "exception": false,
     "start_time": "2023-05-22T19:22:04.700507",
     "status": "completed"
    },
    "tags": []
   },
   "outputs": [
    {
     "ename": "",
     "evalue": "",
     "output_type": "error",
     "traceback": [
      "\u001b[1;31mRunning cells with 'c:\\Users\\Cathy\\AppData\\Local\\Programs\\Python\\Python311\\python.exe' requires the ipykernel package.\n",
      "\u001b[1;31mRun the following command to install 'ipykernel' into the Python environment. \n",
      "\u001b[1;31mCommand: 'c:/Users/Cathy/AppData/Local/Programs/Python/Python311/python.exe -m pip install ipykernel -U --user --force-reinstall'"
     ]
    }
   ],
   "source": [
    "def construct_graph(training_dir, edges, nodes, target_node_type):\n",
    "\n",
    "    print(\"Getting relation graphs from the following edge lists : {} \".format(edges))\n",
    "    edgelists, id_to_node = {}, {}\n",
    "    for i, edge in enumerate(edges):\n",
    "        edgelist, rev_edgelist, id_to_node, src, dst = parse_edgelist(os.path.join(training_dir, edge), id_to_node, header=True)\n",
    "        if src == target_node_type:\n",
    "            src = 'target'\n",
    "        if dst == target_node_type:\n",
    "            dst = 'target'\n",
    "\n",
    "        if src == 'target' and dst == 'target':\n",
    "            print(\"Will add self loop for target later......\")\n",
    "        else:\n",
    "            edgelists[(src, src + '<>' + dst, dst)] = edgelist\n",
    "            edgelists[(dst, dst + '<>' + src, src)] = rev_edgelist\n",
    "            print(\"Read edges for {} from edgelist: {}\".format(src + '<' + dst + '>', os.path.join(training_dir, edge)))\n",
    "\n",
    "    # get features for target nodes\n",
    "    features, new_nodes = get_features(id_to_node[target_node_type], os.path.join(training_dir, nodes))\n",
    "    print(\"Read in features for target nodes\")\n",
    "\n",
    "    # add self relation\n",
    "    edgelists[('target', 'self_relation', 'target')] = [(t, t) for t in id_to_node[target_node_type].values()]\n",
    "\n",
    "    g = dgl.heterograph(edgelists)\n",
    "    print(\n",
    "        \"Constructed heterograph with the following metagraph structure: Node types {}, Edge types{}\".format(\n",
    "            g.ntypes, g.canonical_etypes))\n",
    "    print(\"Number of nodes of type target : {}\".format(g.number_of_nodes('target')))\n",
    "\n",
    "    g.nodes['target'].data['features'] = th.from_numpy(features)\n",
    "\n",
    "    target_id_to_node = id_to_node[target_node_type]\n",
    "    id_to_node['target'] = target_id_to_node\n",
    "\n",
    "    del id_to_node[target_node_type]\n",
    "\n",
    "    return g, features, target_id_to_node, id_to_node"
   ]
  },
  {
   "cell_type": "markdown",
   "id": "138cfbe9",
   "metadata": {
    "papermill": {
     "duration": 0.028249,
     "end_time": "2023-05-22T19:22:04.801184",
     "exception": false,
     "start_time": "2023-05-22T19:22:04.772935",
     "status": "completed"
    },
    "tags": []
   },
   "source": [
    "*data*"
   ]
  },
  {
   "cell_type": "code",
   "execution_count": null,
   "id": "5124b14c",
   "metadata": {
    "execution": {
     "iopub.execute_input": "2023-05-22T19:22:04.859621Z",
     "iopub.status.busy": "2023-05-22T19:22:04.859078Z",
     "iopub.status.idle": "2023-05-22T19:22:04.864575Z",
     "shell.execute_reply": "2023-05-22T19:22:04.863430Z"
    },
    "papermill": {
     "duration": 0.036585,
     "end_time": "2023-05-22T19:22:04.867036",
     "exception": false,
     "start_time": "2023-05-22T19:22:04.830451",
     "status": "completed"
    },
    "tags": []
   },
   "outputs": [
    {
     "ename": "",
     "evalue": "",
     "output_type": "error",
     "traceback": [
      "\u001b[1;31mRunning cells with 'c:\\Users\\Cathy\\AppData\\Local\\Programs\\Python\\Python311\\python.exe' requires the ipykernel package.\n",
      "\u001b[1;31mRun the following command to install 'ipykernel' into the Python environment. \n",
      "\u001b[1;31mCommand: 'c:/Users/Cathy/AppData/Local/Programs/Python/Python311/python.exe -m pip install ipykernel -U --user --force-reinstall'"
     ]
    }
   ],
   "source": [
    "import numpy as np\n",
    "import pandas as pd"
   ]
  },
  {
   "cell_type": "code",
   "execution_count": null,
   "id": "4eafeb65",
   "metadata": {
    "execution": {
     "iopub.execute_input": "2023-05-22T19:22:04.925295Z",
     "iopub.status.busy": "2023-05-22T19:22:04.924308Z",
     "iopub.status.idle": "2023-05-22T19:22:04.933766Z",
     "shell.execute_reply": "2023-05-22T19:22:04.932802Z"
    },
    "papermill": {
     "duration": 0.041598,
     "end_time": "2023-05-22T19:22:04.936092",
     "exception": false,
     "start_time": "2023-05-22T19:22:04.894494",
     "status": "completed"
    },
    "tags": []
   },
   "outputs": [
    {
     "ename": "",
     "evalue": "",
     "output_type": "error",
     "traceback": [
      "\u001b[1;31mRunning cells with 'c:\\Users\\Cathy\\AppData\\Local\\Programs\\Python\\Python311\\python.exe' requires the ipykernel package.\n",
      "\u001b[1;31mRun the following command to install 'ipykernel' into the Python environment. \n",
      "\u001b[1;31mCommand: 'c:/Users/Cathy/AppData/Local/Programs/Python/Python311/python.exe -m pip install ipykernel -U --user --force-reinstall'"
     ]
    }
   ],
   "source": [
    "def get_features(id_to_node, node_features):\n",
    "    \"\"\"\n",
    "    :param id_to_node: dictionary mapping node names(id) to dgl node idx\n",
    "    :param node_features: path to file containing node features\n",
    "    :return: (np.ndarray, list) node feature matrix in order and new nodes not yet in the graph\n",
    "    \"\"\"\n",
    "    indices, features, new_nodes = [], [], []\n",
    "    max_node = max(id_to_node.values())\n",
    "\n",
    "    is_1st_line = True\n",
    "    with open(node_features, \"r\") as fh:\n",
    "        for line in fh:\n",
    "            node_feats = line.strip().split(\",\")\n",
    "            node_id = node_feats[0]\n",
    "            feats = np.array(list(map(float, node_feats[1:])))\n",
    "            features.append(feats)\n",
    "            if node_id not in id_to_node:\n",
    "                max_node += 1\n",
    "                id_to_node[node_id] = max_node\n",
    "                new_nodes.append(max_node)\n",
    "\n",
    "            indices.append(id_to_node[node_id])\n",
    "\n",
    "    features = np.array(features).astype('float32')\n",
    "    features = features[np.argsort(indices), :]\n",
    "    return features, new_nodes\n"
   ]
  },
  {
   "cell_type": "code",
   "execution_count": null,
   "id": "ebd3f59a",
   "metadata": {
    "execution": {
     "iopub.execute_input": "2023-05-22T19:22:04.994023Z",
     "iopub.status.busy": "2023-05-22T19:22:04.993293Z",
     "iopub.status.idle": "2023-05-22T19:22:05.001049Z",
     "shell.execute_reply": "2023-05-22T19:22:05.000016Z"
    },
    "papermill": {
     "duration": 0.039119,
     "end_time": "2023-05-22T19:22:05.003620",
     "exception": false,
     "start_time": "2023-05-22T19:22:04.964501",
     "status": "completed"
    },
    "tags": []
   },
   "outputs": [
    {
     "ename": "",
     "evalue": "",
     "output_type": "error",
     "traceback": [
      "\u001b[1;31mRunning cells with 'c:\\Users\\Cathy\\AppData\\Local\\Programs\\Python\\Python311\\python.exe' requires the ipykernel package.\n",
      "\u001b[1;31mRun the following command to install 'ipykernel' into the Python environment. \n",
      "\u001b[1;31mCommand: 'c:/Users/Cathy/AppData/Local/Programs/Python/Python311/python.exe -m pip install ipykernel -U --user --force-reinstall'"
     ]
    }
   ],
   "source": [
    "def get_labels(id_to_node, n_nodes, target_node_type, labels_path, masked_nodes_path, additional_mask_rate=0):\n",
    "    \"\"\"\n",
    "    :param id_to_node: dictionary mapping node names(id) to dgl node idx\n",
    "    :param n_nodes: number of user nodes in the graph\n",
    "    :param target_node_type: column name for target node type\n",
    "    :param labels_path: filepath containing labelled nodes\n",
    "    :param masked_nodes_path: filepath containing list of nodes to be masked\n",
    "    :param additional_mask_rate: additional_mask_rate: float for additional masking of nodes with labels during training\n",
    "    :return: (list, list) train and test mask array\n",
    "    \"\"\"\n",
    "    node_to_id = {v: k for k, v in id_to_node.items()}\n",
    "    user_to_label = pd.read_csv(labels_path).set_index(target_node_type)\n",
    "    labels = user_to_label.loc[map(int, pd.Series(node_to_id)[np.arange(n_nodes)].values)].values.flatten()\n",
    "    masked_nodes = read_masked_nodes(masked_nodes_path)\n",
    "    train_mask, test_mask = _get_mask(id_to_node, node_to_id, n_nodes, masked_nodes,\n",
    "                                      additional_mask_rate=additional_mask_rate)\n",
    "    return labels, train_mask, test_mask"
   ]
  },
  {
   "cell_type": "code",
   "execution_count": null,
   "id": "398e3da3",
   "metadata": {
    "execution": {
     "iopub.execute_input": "2023-05-22T19:22:05.061530Z",
     "iopub.status.busy": "2023-05-22T19:22:05.061047Z",
     "iopub.status.idle": "2023-05-22T19:22:05.067094Z",
     "shell.execute_reply": "2023-05-22T19:22:05.065923Z"
    },
    "papermill": {
     "duration": 0.038273,
     "end_time": "2023-05-22T19:22:05.069842",
     "exception": false,
     "start_time": "2023-05-22T19:22:05.031569",
     "status": "completed"
    },
    "tags": []
   },
   "outputs": [
    {
     "ename": "",
     "evalue": "",
     "output_type": "error",
     "traceback": [
      "\u001b[1;31mRunning cells with 'c:\\Users\\Cathy\\AppData\\Local\\Programs\\Python\\Python311\\python.exe' requires the ipykernel package.\n",
      "\u001b[1;31mRun the following command to install 'ipykernel' into the Python environment. \n",
      "\u001b[1;31mCommand: 'c:/Users/Cathy/AppData/Local/Programs/Python/Python311/python.exe -m pip install ipykernel -U --user --force-reinstall'"
     ]
    }
   ],
   "source": [
    "def read_masked_nodes(masked_nodes_path):\n",
    "    \"\"\"\n",
    "    Returns a list of nodes extracted from the path passed in\n",
    "    :param masked_nodes_path: filepath containing list of nodes to be masked i.e test users\n",
    "    :return: list\n",
    "    \"\"\"\n",
    "    with open(masked_nodes_path, \"r\") as fh:\n",
    "        masked_nodes = [line.strip() for line in fh]\n",
    "    return masked_nodes"
   ]
  },
  {
   "cell_type": "code",
   "execution_count": null,
   "id": "5f3d0322",
   "metadata": {
    "execution": {
     "iopub.execute_input": "2023-05-22T19:22:05.128195Z",
     "iopub.status.busy": "2023-05-22T19:22:05.127736Z",
     "iopub.status.idle": "2023-05-22T19:22:05.136628Z",
     "shell.execute_reply": "2023-05-22T19:22:05.135410Z"
    },
    "papermill": {
     "duration": 0.041068,
     "end_time": "2023-05-22T19:22:05.139122",
     "exception": false,
     "start_time": "2023-05-22T19:22:05.098054",
     "status": "completed"
    },
    "tags": []
   },
   "outputs": [
    {
     "ename": "",
     "evalue": "",
     "output_type": "error",
     "traceback": [
      "\u001b[1;31mRunning cells with 'c:\\Users\\Cathy\\AppData\\Local\\Programs\\Python\\Python311\\python.exe' requires the ipykernel package.\n",
      "\u001b[1;31mRun the following command to install 'ipykernel' into the Python environment. \n",
      "\u001b[1;31mCommand: 'c:/Users/Cathy/AppData/Local/Programs/Python/Python311/python.exe -m pip install ipykernel -U --user --force-reinstall'"
     ]
    }
   ],
   "source": [
    "def _get_mask(id_to_node, node_to_id, num_nodes, masked_nodes, additional_mask_rate):\n",
    "    \"\"\"\n",
    "    Returns the train and test mask arrays\n",
    "    :param id_to_node: dictionary mapping node names(id) to dgl node idx\n",
    "    :param node_to_id: dictionary mapping dgl node idx to node names(id)\n",
    "    :param num_nodes: number of user/account nodes in the graph\n",
    "    :param masked_nodes: list of nodes to be masked during training, nodes without labels\n",
    "    :param additional_mask_rate: float for additional masking of nodes with labels during training\n",
    "    :return: (list, list) train and test mask array\n",
    "    \"\"\"\n",
    "    train_mask = np.ones(num_nodes)\n",
    "    test_mask = np.zeros(num_nodes)\n",
    "    for node_id in masked_nodes:\n",
    "        train_mask[id_to_node[node_id]] = 0\n",
    "        test_mask[id_to_node[node_id]] = 1\n",
    "    if additional_mask_rate and additional_mask_rate < 1:\n",
    "        unmasked = np.array([idx for idx in range(num_nodes) if node_to_id[idx] not in masked_nodes])\n",
    "        yet_unmasked = np.random.permutation(unmasked)[:int(additional_mask_rate*num_nodes)]\n",
    "        train_mask[yet_unmasked] = 0\n",
    "    return train_mask, test_mask\n"
   ]
  },
  {
   "cell_type": "code",
   "execution_count": null,
   "id": "ae740191",
   "metadata": {
    "execution": {
     "iopub.execute_input": "2023-05-22T19:22:05.198222Z",
     "iopub.status.busy": "2023-05-22T19:22:05.196752Z",
     "iopub.status.idle": "2023-05-22T19:22:05.204896Z",
     "shell.execute_reply": "2023-05-22T19:22:05.203435Z"
    },
    "papermill": {
     "duration": 0.039815,
     "end_time": "2023-05-22T19:22:05.207876",
     "exception": false,
     "start_time": "2023-05-22T19:22:05.168061",
     "status": "completed"
    },
    "tags": []
   },
   "outputs": [
    {
     "ename": "",
     "evalue": "",
     "output_type": "error",
     "traceback": [
      "\u001b[1;31mRunning cells with 'c:\\Users\\Cathy\\AppData\\Local\\Programs\\Python\\Python311\\python.exe' requires the ipykernel package.\n",
      "\u001b[1;31mRun the following command to install 'ipykernel' into the Python environment. \n",
      "\u001b[1;31mCommand: 'c:/Users/Cathy/AppData/Local/Programs/Python/Python311/python.exe -m pip install ipykernel -U --user --force-reinstall'"
     ]
    }
   ],
   "source": [
    "def _get_node_idx(id_to_node, node_type, node_id, ptr):\n",
    "    if node_type in id_to_node:\n",
    "        if node_id in id_to_node[node_type]:\n",
    "            node_idx = id_to_node[node_type][node_id]\n",
    "        else:\n",
    "            id_to_node[node_type][node_id] = ptr\n",
    "            node_idx = ptr\n",
    "            ptr += 1\n",
    "    else:\n",
    "        id_to_node[node_type] = {}\n",
    "        id_to_node[node_type][node_id] = ptr\n",
    "        node_idx = ptr\n",
    "        ptr += 1\n",
    "\n",
    "    return node_idx, id_to_node, ptr\n"
   ]
  },
  {
   "cell_type": "code",
   "execution_count": null,
   "id": "488c5858",
   "metadata": {
    "execution": {
     "iopub.execute_input": "2023-05-22T19:22:05.265219Z",
     "iopub.status.busy": "2023-05-22T19:22:05.264789Z",
     "iopub.status.idle": "2023-05-22T19:22:05.276085Z",
     "shell.execute_reply": "2023-05-22T19:22:05.275074Z"
    },
    "papermill": {
     "duration": 0.042603,
     "end_time": "2023-05-22T19:22:05.278487",
     "exception": false,
     "start_time": "2023-05-22T19:22:05.235884",
     "status": "completed"
    },
    "tags": []
   },
   "outputs": [
    {
     "ename": "",
     "evalue": "",
     "output_type": "error",
     "traceback": [
      "\u001b[1;31mRunning cells with 'c:\\Users\\Cathy\\AppData\\Local\\Programs\\Python\\Python311\\python.exe' requires the ipykernel package.\n",
      "\u001b[1;31mRun the following command to install 'ipykernel' into the Python environment. \n",
      "\u001b[1;31mCommand: 'c:/Users/Cathy/AppData/Local/Programs/Python/Python311/python.exe -m pip install ipykernel -U --user --force-reinstall'"
     ]
    }
   ],
   "source": [
    "def parse_edgelist(edges, id_to_node, header=False, source_type='user', sink_type='user'):\n",
    "    \"\"\"\n",
    "    Parse an edgelist path file and return the edges as a list of tuple\n",
    "    :param edges: path to comma separated file containing bipartite edges with header for edgetype\n",
    "    :param id_to_node: dictionary containing mapping for node names(id) to dgl node indices\n",
    "    :param header: boolean whether or not the file has a header row\n",
    "    :param source_type: type of the source node in the edge. defaults to 'user' if no header\n",
    "    :param sink_type: type of the sink node in the edge. defaults to 'user' if no header.\n",
    "    :return: (list, dict) a list containing edges of a single relationship type as tuples and updated id_to_node dict.\n",
    "    \"\"\"\n",
    "    edge_list = []\n",
    "    rev_edge_list = []\n",
    "    source_pointer, sink_pointer = 0, 0\n",
    "    with open(edges, \"r\") as fh:\n",
    "        for i, line in enumerate(fh):\n",
    "            source, sink = line.strip().split(\",\")\n",
    "            if i == 0:\n",
    "                if header:\n",
    "                    source_type, sink_type = source, sink\n",
    "                if source_type in id_to_node:\n",
    "                    source_pointer = max(id_to_node[source_type].values()) + 1\n",
    "                if sink_type in id_to_node:\n",
    "                    sink_pointer = max(id_to_node[sink_type].values()) + 1\n",
    "                continue\n",
    "\n",
    "            source_node, id_to_node, source_pointer = _get_node_idx(id_to_node, source_type, source, source_pointer)\n",
    "            if source_type == sink_type:\n",
    "                sink_node, id_to_node, source_pointer = _get_node_idx(id_to_node, sink_type, sink, source_pointer)\n",
    "            else:\n",
    "                sink_node, id_to_node, sink_pointer = _get_node_idx(id_to_node, sink_type, sink, sink_pointer)\n",
    "\n",
    "            edge_list.append((source_node, sink_node))\n",
    "            rev_edge_list.append((sink_node, source_node))\n",
    "\n",
    "    return edge_list, rev_edge_list, id_to_node, source_type, sink_type\n"
   ]
  },
  {
   "cell_type": "code",
   "execution_count": null,
   "id": "ee2b9396",
   "metadata": {
    "execution": {
     "iopub.execute_input": "2023-05-22T19:22:05.337463Z",
     "iopub.status.busy": "2023-05-22T19:22:05.336784Z",
     "iopub.status.idle": "2023-05-22T19:22:05.348909Z",
     "shell.execute_reply": "2023-05-22T19:22:05.347709Z"
    },
    "papermill": {
     "duration": 0.04517,
     "end_time": "2023-05-22T19:22:05.351651",
     "exception": false,
     "start_time": "2023-05-22T19:22:05.306481",
     "status": "completed"
    },
    "tags": []
   },
   "outputs": [
    {
     "ename": "",
     "evalue": "",
     "output_type": "error",
     "traceback": [
      "\u001b[1;31mRunning cells with 'c:\\Users\\Cathy\\AppData\\Local\\Programs\\Python\\Python311\\python.exe' requires the ipykernel package.\n",
      "\u001b[1;31mRun the following command to install 'ipykernel' into the Python environment. \n",
      "\u001b[1;31mCommand: 'c:/Users/Cathy/AppData/Local/Programs/Python/Python311/python.exe -m pip install ipykernel -U --user --force-reinstall'"
     ]
    }
   ],
   "source": [
    "def read_edges(edges, nodes=None):\n",
    "    \"\"\"\n",
    "    Read edges and node features\n",
    "    :param edges: path to comma separated file containing all edges\n",
    "    :param nodes: path to comma separated file containing all nodes + features\n",
    "    :return: (list, list, list, dict) sources, sinks, features and id_to_node dictionary containing mappings\n",
    "    from node names(id) to dgl node indices\n",
    "    \"\"\"\n",
    "    node_pointer = 0\n",
    "    id_to_node = {}\n",
    "    features = []\n",
    "    sources, sinks = [], []\n",
    "    if nodes is not None:\n",
    "        with open(nodes, \"r\") as fh:\n",
    "            for line in fh:\n",
    "                node_feats = line.strip().split(\",\")\n",
    "                node_id = node_feats[0]\n",
    "                if node_id not in id_to_node:\n",
    "                    id_to_node[node_id] = node_pointer\n",
    "                    node_pointer += 1\n",
    "                    if len(node_feats) > 1:\n",
    "                        feats = np.array(list(map(float, node_feats[1:])))\n",
    "                        features.append(feats)\n",
    "        with open(edges, \"r\") as fh:\n",
    "            for line in fh:\n",
    "                source, sink = line.strip().split(\",\")\n",
    "                sources.append(id_to_node[source])\n",
    "                sinks.append(id_to_node[sink])\n",
    "    else:\n",
    "        with open(edges, \"r\") as fh:\n",
    "            for line in fh:\n",
    "                source, sink = line.strip().split(\",\")\n",
    "                if source not in id_to_node:\n",
    "                    id_to_node[source] = node_pointer\n",
    "                    node_pointer += 1\n",
    "                if sink not in id_to_node:\n",
    "                    id_to_node[sink] = node_pointer\n",
    "                    node_pointer += 1\n",
    "                sources.append(id_to_node[source])\n",
    "                sinks.append(id_to_node[sink])\n",
    "\n",
    "    return sources, sinks, features, id_to_node"
   ]
  },
  {
   "cell_type": "markdown",
   "id": "66245a77",
   "metadata": {
    "papermill": {
     "duration": 0.02704,
     "end_time": "2023-05-22T19:22:05.406449",
     "exception": false,
     "start_time": "2023-05-22T19:22:05.379409",
     "status": "completed"
    },
    "tags": []
   },
   "source": [
    "*utils*"
   ]
  },
  {
   "cell_type": "code",
   "execution_count": null,
   "id": "df60907f",
   "metadata": {
    "execution": {
     "iopub.execute_input": "2023-05-22T19:22:05.462865Z",
     "iopub.status.busy": "2023-05-22T19:22:05.462445Z",
     "iopub.status.idle": "2023-05-22T19:22:06.441045Z",
     "shell.execute_reply": "2023-05-22T19:22:06.439826Z"
    },
    "papermill": {
     "duration": 1.010346,
     "end_time": "2023-05-22T19:22:06.444034",
     "exception": false,
     "start_time": "2023-05-22T19:22:05.433688",
     "status": "completed"
    },
    "tags": []
   },
   "outputs": [
    {
     "ename": "",
     "evalue": "",
     "output_type": "error",
     "traceback": [
      "\u001b[1;31mRunning cells with 'c:\\Users\\Cathy\\AppData\\Local\\Programs\\Python\\Python311\\python.exe' requires the ipykernel package.\n",
      "\u001b[1;31mRun the following command to install 'ipykernel' into the Python environment. \n",
      "\u001b[1;31mCommand: 'c:/Users/Cathy/AppData/Local/Programs/Python/Python311/python.exe -m pip install ipykernel -U --user --force-reinstall'"
     ]
    }
   ],
   "source": [
    "import os\n",
    "import pandas as pd\n",
    "import numpy as np\n",
    "from sklearn.metrics import roc_curve, auc, precision_recall_curve, average_precision_score\n",
    "import networkx as nx\n",
    "import matplotlib.pyplot as plt"
   ]
  },
  {
   "cell_type": "code",
   "execution_count": null,
   "id": "8a778aea",
   "metadata": {
    "execution": {
     "iopub.execute_input": "2023-05-22T19:22:06.503366Z",
     "iopub.status.busy": "2023-05-22T19:22:06.502928Z",
     "iopub.status.idle": "2023-05-22T19:22:06.518653Z",
     "shell.execute_reply": "2023-05-22T19:22:06.517738Z"
    },
    "papermill": {
     "duration": 0.049418,
     "end_time": "2023-05-22T19:22:06.521221",
     "exception": false,
     "start_time": "2023-05-22T19:22:06.471803",
     "status": "completed"
    },
    "tags": []
   },
   "outputs": [
    {
     "ename": "",
     "evalue": "",
     "output_type": "error",
     "traceback": [
      "\u001b[1;31mRunning cells with 'c:\\Users\\Cathy\\AppData\\Local\\Programs\\Python\\Python311\\python.exe' requires the ipykernel package.\n",
      "\u001b[1;31mRun the following command to install 'ipykernel' into the Python environment. \n",
      "\u001b[1;31mCommand: 'c:/Users/Cathy/AppData/Local/Programs/Python/Python311/python.exe -m pip install ipykernel -U --user --force-reinstall'"
     ]
    }
   ],
   "source": [
    "def get_metrics(pred, pred_proba, labels, mask, out_dir):\n",
    "    labels, mask = labels, mask\n",
    "    labels, pred, pred_proba = labels[np.where(mask)], pred[np.where(mask)], pred_proba[np.where(mask)]\n",
    "    acc = ((pred == labels)).sum() / mask.sum()\n",
    "    true_pos = (np.where(pred == 1, 1, 0) + np.where(labels == 1, 1, 0) > 1).sum()\n",
    "    false_pos = (np.where(pred == 1, 1, 0) + np.where(labels == 0, 1, 0) > 1).sum()\n",
    "    false_neg = (np.where(pred == 0, 1, 0) + np.where(labels == 1, 1, 0) > 1).sum()\n",
    "    true_neg = (np.where(pred == 0, 1, 0) + np.where(labels == 0, 1, 0) > 1).sum()\n",
    "    precision = true_pos/(true_pos + false_pos) if (true_pos + false_pos) > 0 else 0\n",
    "    recall = true_pos/(true_pos + false_neg) if (true_pos + false_neg) > 0 else 0\n",
    "    f1 = 2*(precision*recall)/(precision + recall) if (precision + recall) > 0 else 0\n",
    "    confusion_matrix = pd.DataFrame(np.array([[true_pos, false_pos], [false_neg, true_neg]]),\n",
    "                                    columns=[\"labels positive\", \"labels negative\"],\n",
    "                                    index=[\"predicted positive\", \"predicted negative\"])\n",
    "    ap = average_precision_score(labels, pred_proba)\n",
    "    fpr, tpr, _ = roc_curve(labels, pred_proba)\n",
    "    prc, rec, _ = precision_recall_curve(labels, pred_proba)\n",
    "    roc_auc = auc(fpr, tpr)\n",
    "    pr_auc = auc(rec, prc)\n",
    "    save_roc_curve(fpr, tpr, roc_auc, os.path.join(out_dir, \"roc_curve.png\"))\n",
    "    save_pr_curve(prc, rec, pr_auc, ap, os.path.join(out_dir, \"pr_curve.png\"))\n",
    "\n",
    "    return acc, f1, precision, recall, roc_auc, pr_auc, ap, confusion_matrix"
   ]
  },
  {
   "cell_type": "code",
   "execution_count": null,
   "id": "5b5f8166",
   "metadata": {
    "execution": {
     "iopub.execute_input": "2023-05-22T19:22:06.580588Z",
     "iopub.status.busy": "2023-05-22T19:22:06.580049Z",
     "iopub.status.idle": "2023-05-22T19:22:06.588710Z",
     "shell.execute_reply": "2023-05-22T19:22:06.587446Z"
    },
    "papermill": {
     "duration": 0.040386,
     "end_time": "2023-05-22T19:22:06.591202",
     "exception": false,
     "start_time": "2023-05-22T19:22:06.550816",
     "status": "completed"
    },
    "tags": []
   },
   "outputs": [
    {
     "ename": "",
     "evalue": "",
     "output_type": "error",
     "traceback": [
      "\u001b[1;31mRunning cells with 'c:\\Users\\Cathy\\AppData\\Local\\Programs\\Python\\Python311\\python.exe' requires the ipykernel package.\n",
      "\u001b[1;31mRun the following command to install 'ipykernel' into the Python environment. \n",
      "\u001b[1;31mCommand: 'c:/Users/Cathy/AppData/Local/Programs/Python/Python311/python.exe -m pip install ipykernel -U --user --force-reinstall'"
     ]
    }
   ],
   "source": [
    "def save_roc_curve(fpr, tpr, roc_auc, location):\n",
    "    f = plt.figure()\n",
    "    lw = 2\n",
    "    plt.plot(fpr, tpr, color='darkorange',\n",
    "             lw=lw, label='ROC curve (area = %0.2f)' % roc_auc)\n",
    "    plt.plot([0, 1], [0, 1], color='navy', lw=lw, linestyle='--')\n",
    "    plt.xlim([0.0, 1.0])\n",
    "    plt.ylim([0.0, 1.05])\n",
    "    plt.xlabel('False Positive Rate')\n",
    "    plt.ylabel('True Positive Rate')\n",
    "    plt.title('Model ROC curve')\n",
    "    plt.legend(loc=\"lower right\")\n",
    "    f.savefig(location)"
   ]
  },
  {
   "cell_type": "code",
   "execution_count": null,
   "id": "4e0e4bbd",
   "metadata": {
    "execution": {
     "iopub.execute_input": "2023-05-22T19:22:06.652207Z",
     "iopub.status.busy": "2023-05-22T19:22:06.651767Z",
     "iopub.status.idle": "2023-05-22T19:22:06.660909Z",
     "shell.execute_reply": "2023-05-22T19:22:06.659294Z"
    },
    "papermill": {
     "duration": 0.042421,
     "end_time": "2023-05-22T19:22:06.663520",
     "exception": false,
     "start_time": "2023-05-22T19:22:06.621099",
     "status": "completed"
    },
    "tags": []
   },
   "outputs": [
    {
     "ename": "",
     "evalue": "",
     "output_type": "error",
     "traceback": [
      "\u001b[1;31mRunning cells with 'c:\\Users\\Cathy\\AppData\\Local\\Programs\\Python\\Python311\\python.exe' requires the ipykernel package.\n",
      "\u001b[1;31mRun the following command to install 'ipykernel' into the Python environment. \n",
      "\u001b[1;31mCommand: 'c:/Users/Cathy/AppData/Local/Programs/Python/Python311/python.exe -m pip install ipykernel -U --user --force-reinstall'"
     ]
    }
   ],
   "source": [
    "def save_pr_curve(fpr, tpr, pr_auc, ap, location):\n",
    "    f = plt.figure()\n",
    "    lw = 2\n",
    "    plt.plot(fpr, tpr, color='darkorange',\n",
    "             lw=lw, label='PR curve (area = %0.2f)' % pr_auc)\n",
    "    plt.xlim([0.0, 1.0])\n",
    "    plt.ylim([0.0, 1.05])\n",
    "    plt.xlabel('Recall')\n",
    "    plt.ylabel('Precision')\n",
    "    plt.title('Model PR curve: AP={0:0.2f}'.format(ap))\n",
    "    plt.legend(loc=\"lower right\")\n",
    "    f.savefig(location)"
   ]
  },
  {
   "cell_type": "code",
   "execution_count": null,
   "id": "5401590d",
   "metadata": {
    "execution": {
     "iopub.execute_input": "2023-05-22T19:22:06.721575Z",
     "iopub.status.busy": "2023-05-22T19:22:06.721127Z",
     "iopub.status.idle": "2023-05-22T19:22:06.728875Z",
     "shell.execute_reply": "2023-05-22T19:22:06.727710Z"
    },
    "papermill": {
     "duration": 0.039073,
     "end_time": "2023-05-22T19:22:06.731240",
     "exception": false,
     "start_time": "2023-05-22T19:22:06.692167",
     "status": "completed"
    },
    "tags": []
   },
   "outputs": [
    {
     "ename": "",
     "evalue": "",
     "output_type": "error",
     "traceback": [
      "\u001b[1;31mRunning cells with 'c:\\Users\\Cathy\\AppData\\Local\\Programs\\Python\\Python311\\python.exe' requires the ipykernel package.\n",
      "\u001b[1;31mRun the following command to install 'ipykernel' into the Python environment. \n",
      "\u001b[1;31mCommand: 'c:/Users/Cathy/AppData/Local/Programs/Python/Python311/python.exe -m pip install ipykernel -U --user --force-reinstall'"
     ]
    }
   ],
   "source": [
    "def save_graph_drawing(g, location):\n",
    "    plt.figure(figsize=(12, 8))\n",
    "    node_colors = {node: 0.0 if 'user' in node else 0.5 for node in g.nodes()}\n",
    "    nx.draw(g, node_size=10000, pos=nx.spring_layout(g), with_labels=True, font_size=14,\n",
    "            node_color=list(node_colors.values()), font_color='white')\n",
    "    plt.savefig(location, bbox_inches='tight')"
   ]
  },
  {
   "cell_type": "markdown",
   "id": "4a8d5ab2",
   "metadata": {
    "papermill": {
     "duration": 0.027174,
     "end_time": "2023-05-22T19:22:06.786314",
     "exception": false,
     "start_time": "2023-05-22T19:22:06.759140",
     "status": "completed"
    },
    "tags": []
   },
   "source": [
    "*pytorch_model*"
   ]
  },
  {
   "cell_type": "code",
   "execution_count": null,
   "id": "ddc7bb90",
   "metadata": {
    "execution": {
     "iopub.execute_input": "2023-05-22T19:22:06.843195Z",
     "iopub.status.busy": "2023-05-22T19:22:06.842733Z",
     "iopub.status.idle": "2023-05-22T19:22:06.863135Z",
     "shell.execute_reply": "2023-05-22T19:22:06.861945Z"
    },
    "papermill": {
     "duration": 0.052094,
     "end_time": "2023-05-22T19:22:06.865934",
     "exception": false,
     "start_time": "2023-05-22T19:22:06.813840",
     "status": "completed"
    },
    "tags": []
   },
   "outputs": [
    {
     "ename": "",
     "evalue": "",
     "output_type": "error",
     "traceback": [
      "\u001b[1;31mRunning cells with 'c:\\Users\\Cathy\\AppData\\Local\\Programs\\Python\\Python311\\python.exe' requires the ipykernel package.\n",
      "\u001b[1;31mRun the following command to install 'ipykernel' into the Python environment. \n",
      "\u001b[1;31mCommand: 'c:/Users/Cathy/AppData/Local/Programs/Python/Python311/python.exe -m pip install ipykernel -U --user --force-reinstall'"
     ]
    }
   ],
   "source": [
    "import torch\n",
    "import torch.nn as nn\n",
    "import torch.nn.functional as F\n",
    "\n",
    "from dgl.nn.pytorch import GraphConv, GATConv, SAGEConv\n",
    "import dgl.function as fn\n",
    "\n",
    "\n",
    "class HeteroRGCNLayer(nn.Module):\n",
    "    def __init__(self, in_size, out_size, etypes):\n",
    "        super(HeteroRGCNLayer, self).__init__()\n",
    "        # W_r for each relation\n",
    "        self.weight = nn.ModuleDict({\n",
    "                name: nn.Linear(in_size, out_size) for name in etypes\n",
    "            })\n",
    "\n",
    "    def forward(self, G, feat_dict):\n",
    "        # The input is a dictionary of node features for each type\n",
    "        funcs = {}\n",
    "        for srctype, etype, dsttype in G.canonical_etypes:\n",
    "            # Compute W_r * h\n",
    "            if srctype in feat_dict:\n",
    "                Wh = self.weight[etype](feat_dict[srctype])\n",
    "                # Save it in graph for message passing\n",
    "                G.nodes[srctype].data['Wh_%s' % etype] = Wh\n",
    "                # Specify per-relation message passing functions: (message_func, reduce_func).\n",
    "                funcs[etype] = (fn.copy_u('Wh_%s' % etype, 'm'), fn.mean('m', 'h'))\n",
    "        # Trigger message passing of multiple types.\n",
    "        G.multi_update_all(funcs, 'sum')\n",
    "        # return the updated node feature dictionary\n",
    "        return {ntype: G.nodes[ntype].data['h'] for ntype in G.ntypes if 'h' in G.nodes[ntype].data}\n",
    "\n",
    "\n",
    "class HeteroRGCN(nn.Module):\n",
    "    def __init__(self, ntype_dict, etypes, in_size, hidden_size, out_size, n_layers, embedding_size):\n",
    "        super(HeteroRGCN, self).__init__()\n",
    "        # Use trainable node embeddings as featureless inputs.\n",
    "        embed_dict = {ntype: nn.Parameter(torch.Tensor(num_nodes, in_size))\n",
    "                      for ntype, num_nodes in ntype_dict.items() if ntype != 'target'}\n",
    "        for key, embed in embed_dict.items():\n",
    "            nn.init.xavier_uniform_(embed)\n",
    "        self.embed = nn.ParameterDict(embed_dict)\n",
    "        # create layers\n",
    "        self.layers = nn.ModuleList()\n",
    "        self.layers.append(HeteroRGCNLayer(embedding_size, hidden_size, etypes))\n",
    "        # hidden layers\n",
    "        for i in range(n_layers - 1):\n",
    "            self.layers.append(HeteroRGCNLayer(hidden_size, hidden_size, etypes))\n",
    "\n",
    "        # output layer\n",
    "        self.layers.append(nn.Linear(hidden_size, out_size))\n",
    "\n",
    "    def forward(self, g, features):\n",
    "        # get embeddings for all node types. for user node type, use passed in user features\n",
    "        h_dict = {ntype: emb for ntype, emb in self.embed.items()}\n",
    "        # feat_para = torch.tensor(features)\n",
    "        h_dict['target'] = features\n",
    "\n",
    "        # pass through all layers\n",
    "        for i, layer in enumerate(self.layers[:-1]):\n",
    "            if i != 0:\n",
    "                h_dict = {k: F.leaky_relu(h) for k, h in h_dict.items()}\n",
    "            h_dict = layer(g, h_dict)\n",
    "\n",
    "        # get user logits\n",
    "        return self.layers[-1](h_dict['target'])"
   ]
  },
  {
   "cell_type": "markdown",
   "id": "120799f4",
   "metadata": {
    "papermill": {
     "duration": 0.028595,
     "end_time": "2023-05-22T19:22:06.921944",
     "exception": false,
     "start_time": "2023-05-22T19:22:06.893349",
     "status": "completed"
    },
    "tags": []
   },
   "source": [
    "***train***"
   ]
  },
  {
   "cell_type": "code",
   "execution_count": null,
   "id": "df310e00",
   "metadata": {
    "execution": {
     "iopub.execute_input": "2023-05-22T19:22:06.980095Z",
     "iopub.status.busy": "2023-05-22T19:22:06.979677Z",
     "iopub.status.idle": "2023-05-22T19:22:06.987049Z",
     "shell.execute_reply": "2023-05-22T19:22:06.985776Z"
    },
    "papermill": {
     "duration": 0.03927,
     "end_time": "2023-05-22T19:22:06.989501",
     "exception": false,
     "start_time": "2023-05-22T19:22:06.950231",
     "status": "completed"
    },
    "tags": []
   },
   "outputs": [
    {
     "ename": "",
     "evalue": "",
     "output_type": "error",
     "traceback": [
      "\u001b[1;31mRunning cells with 'c:\\Users\\Cathy\\AppData\\Local\\Programs\\Python\\Python311\\python.exe' requires the ipykernel package.\n",
      "\u001b[1;31mRun the following command to install 'ipykernel' into the Python environment. \n",
      "\u001b[1;31mCommand: 'c:/Users/Cathy/AppData/Local/Programs/Python/Python311/python.exe -m pip install ipykernel -U --user --force-reinstall'"
     ]
    }
   ],
   "source": [
    "os.environ['DGLBACKEND'] = 'pytorch'\n",
    "\n",
    "import torch as th\n",
    "import dgl\n",
    "print('DLG version: {}'.format(dgl.__version__))\n",
    "import numpy as np\n",
    "import pandas as pd\n",
    "import time\n",
    "import pickle\n",
    "import copy"
   ]
  },
  {
   "cell_type": "code",
   "execution_count": null,
   "id": "a420c5d1",
   "metadata": {
    "execution": {
     "iopub.execute_input": "2023-05-22T19:22:07.047467Z",
     "iopub.status.busy": "2023-05-22T19:22:07.046180Z",
     "iopub.status.idle": "2023-05-22T19:22:07.051782Z",
     "shell.execute_reply": "2023-05-22T19:22:07.050783Z"
    },
    "papermill": {
     "duration": 0.037478,
     "end_time": "2023-05-22T19:22:07.054429",
     "exception": false,
     "start_time": "2023-05-22T19:22:07.016951",
     "status": "completed"
    },
    "tags": []
   },
   "outputs": [
    {
     "ename": "",
     "evalue": "",
     "output_type": "error",
     "traceback": [
      "\u001b[1;31mRunning cells with 'c:\\Users\\Cathy\\AppData\\Local\\Programs\\Python\\Python311\\python.exe' requires the ipykernel package.\n",
      "\u001b[1;31mRun the following command to install 'ipykernel' into the Python environment. \n",
      "\u001b[1;31mCommand: 'c:/Users/Cathy/AppData/Local/Programs/Python/Python311/python.exe -m pip install ipykernel -U --user --force-reinstall'"
     ]
    }
   ],
   "source": [
    "from sklearn.metrics import confusion_matrix"
   ]
  },
  {
   "cell_type": "code",
   "execution_count": null,
   "id": "2270d399",
   "metadata": {
    "execution": {
     "iopub.execute_input": "2023-05-22T19:22:07.111950Z",
     "iopub.status.busy": "2023-05-22T19:22:07.111535Z",
     "iopub.status.idle": "2023-05-22T19:22:07.117555Z",
     "shell.execute_reply": "2023-05-22T19:22:07.116351Z"
    },
    "papermill": {
     "duration": 0.038465,
     "end_time": "2023-05-22T19:22:07.120468",
     "exception": false,
     "start_time": "2023-05-22T19:22:07.082003",
     "status": "completed"
    },
    "tags": []
   },
   "outputs": [
    {
     "ename": "",
     "evalue": "",
     "output_type": "error",
     "traceback": [
      "\u001b[1;31mRunning cells with 'c:\\Users\\Cathy\\AppData\\Local\\Programs\\Python\\Python311\\python.exe' requires the ipykernel package.\n",
      "\u001b[1;31mRun the following command to install 'ipykernel' into the Python environment. \n",
      "\u001b[1;31mCommand: 'c:/Users/Cathy/AppData/Local/Programs/Python/Python311/python.exe -m pip install ipykernel -U --user --force-reinstall'"
     ]
    }
   ],
   "source": [
    "def initial_record():\n",
    "    if os.path.exists('/kaggle/working/results.txt'):\n",
    "        os.remove('/kaggle/working/results.txt')\n",
    "    with open('/kaggle/working/results.txt','w') as f:\n",
    "        f.write(\"Epoch,Time(s),Loss,F1\\n\")"
   ]
  },
  {
   "cell_type": "code",
   "execution_count": null,
   "id": "69e00deb",
   "metadata": {
    "execution": {
     "iopub.execute_input": "2023-05-22T19:22:07.178092Z",
     "iopub.status.busy": "2023-05-22T19:22:07.177265Z",
     "iopub.status.idle": "2023-05-22T19:22:07.183746Z",
     "shell.execute_reply": "2023-05-22T19:22:07.182767Z"
    },
    "papermill": {
     "duration": 0.038303,
     "end_time": "2023-05-22T19:22:07.186405",
     "exception": false,
     "start_time": "2023-05-22T19:22:07.148102",
     "status": "completed"
    },
    "tags": []
   },
   "outputs": [
    {
     "ename": "",
     "evalue": "",
     "output_type": "error",
     "traceback": [
      "\u001b[1;31mRunning cells with 'c:\\Users\\Cathy\\AppData\\Local\\Programs\\Python\\Python311\\python.exe' requires the ipykernel package.\n",
      "\u001b[1;31mRun the following command to install 'ipykernel' into the Python environment. \n",
      "\u001b[1;31mCommand: 'c:/Users/Cathy/AppData/Local/Programs/Python/Python311/python.exe -m pip install ipykernel -U --user --force-reinstall'"
     ]
    }
   ],
   "source": [
    "def normalize(feature_matrix):\n",
    "    mean = th.mean(feature_matrix, axis=0)\n",
    "    stdev = th.sqrt(th.sum((feature_matrix - mean)**2, axis=0)/feature_matrix.shape[0])\n",
    "    return mean, stdev, (feature_matrix - mean) / stdev"
   ]
  },
  {
   "cell_type": "code",
   "execution_count": null,
   "id": "070b7a5d",
   "metadata": {
    "execution": {
     "iopub.execute_input": "2023-05-22T19:22:07.244201Z",
     "iopub.status.busy": "2023-05-22T19:22:07.243347Z",
     "iopub.status.idle": "2023-05-22T19:22:07.256665Z",
     "shell.execute_reply": "2023-05-22T19:22:07.255720Z"
    },
    "papermill": {
     "duration": 0.045453,
     "end_time": "2023-05-22T19:22:07.259378",
     "exception": false,
     "start_time": "2023-05-22T19:22:07.213925",
     "status": "completed"
    },
    "tags": []
   },
   "outputs": [
    {
     "ename": "",
     "evalue": "",
     "output_type": "error",
     "traceback": [
      "\u001b[1;31mRunning cells with 'c:\\Users\\Cathy\\AppData\\Local\\Programs\\Python\\Python311\\python.exe' requires the ipykernel package.\n",
      "\u001b[1;31mRun the following command to install 'ipykernel' into the Python environment. \n",
      "\u001b[1;31mCommand: 'c:/Users/Cathy/AppData/Local/Programs/Python/Python311/python.exe -m pip install ipykernel -U --user --force-reinstall'"
     ]
    }
   ],
   "source": [
    "def train_fg(model, optim, loss, features, labels, train_g, test_g, test_mask,\n",
    "             device, n_epochs, thresh, compute_metrics=True):\n",
    "    \"\"\"\n",
    "    A full graph verison of RGCN training\n",
    "    \"\"\"\n",
    "\n",
    "    duration = []\n",
    "    best_loss = 1\n",
    "    for epoch in range(n_epochs):\n",
    "        tic = time.time()\n",
    "        loss_val = 0.\n",
    "\n",
    "        pred = model(train_g, features.to(device))\n",
    "\n",
    "        l = loss(pred, labels)\n",
    "\n",
    "        optim.zero_grad()\n",
    "        l.backward()\n",
    "        optim.step()\n",
    "\n",
    "        loss_val += l\n",
    "\n",
    "        duration.append(time.time() - tic)\n",
    "        metric = evaluate(model, train_g, features, labels, device)\n",
    "        print(\"Epoch {:05d}, Time(s) {:.4f}, Loss {:.4f}, F1 {:.4f} \".format(\n",
    "                epoch, np.mean(duration), loss_val, metric))\n",
    "\n",
    "        epoch_result = \"{:05d},{:.4f},{:.4f},{:.4f}\\n\".format(epoch, np.mean(duration), loss_val, metric)\n",
    "        with open('/kaggle/working/results.txt','a+') as f:\n",
    "            f.write(epoch_result)\n",
    "\n",
    "        if loss_val < best_loss:\n",
    "            best_loss = loss_val\n",
    "            best_model = copy.deepcopy(model)\n",
    "\n",
    "\n",
    "    class_preds, pred_proba = get_model_class_predictions(best_model,\n",
    "                                                          test_g,\n",
    "                                                          features,\n",
    "                                                          labels,\n",
    "                                                          device,\n",
    "                                                          threshold=thresh)\n",
    "\n",
    "    if compute_metrics:\n",
    "        acc, f1, p, r, roc, pr, ap, cm = get_metrics(class_preds, pred_proba, labels.numpy(), test_mask.numpy(), '/kaggle/working')\n",
    "        print(\"Metrics\")\n",
    "        print(\"\"\"Confusion Matrix:\n",
    "                                {}\n",
    "                                f1: {:.4f}, precision: {:.4f}, recall: {:.4f}, acc: {:.4f}, roc: {:.4f}, pr: {:.4f}, ap: {:.4f}\n",
    "                             \"\"\".format(cm, f1, p, r, acc, roc, pr, ap))\n",
    "\n",
    "    return best_model, class_preds, pred_proba"
   ]
  },
  {
   "cell_type": "code",
   "execution_count": null,
   "id": "9662a6ad",
   "metadata": {
    "execution": {
     "iopub.execute_input": "2023-05-22T19:22:07.316745Z",
     "iopub.status.busy": "2023-05-22T19:22:07.316272Z",
     "iopub.status.idle": "2023-05-22T19:22:07.323866Z",
     "shell.execute_reply": "2023-05-22T19:22:07.322581Z"
    },
    "papermill": {
     "duration": 0.039027,
     "end_time": "2023-05-22T19:22:07.326179",
     "exception": false,
     "start_time": "2023-05-22T19:22:07.287152",
     "status": "completed"
    },
    "tags": []
   },
   "outputs": [
    {
     "ename": "",
     "evalue": "",
     "output_type": "error",
     "traceback": [
      "\u001b[1;31mRunning cells with 'c:\\Users\\Cathy\\AppData\\Local\\Programs\\Python\\Python311\\python.exe' requires the ipykernel package.\n",
      "\u001b[1;31mRun the following command to install 'ipykernel' into the Python environment. \n",
      "\u001b[1;31mCommand: 'c:/Users/Cathy/AppData/Local/Programs/Python/Python311/python.exe -m pip install ipykernel -U --user --force-reinstall'"
     ]
    }
   ],
   "source": [
    "def get_f1_score(y_true, y_pred):\n",
    "    \"\"\"\n",
    "    Only works for binary case.\n",
    "    Attention!\n",
    "    tn, fp, fn, tp = cf_m[0,0],cf_m[0,1],cf_m[1,0],cf_m[1,1]\n",
    "    :param y_true: A list of labels in 0 or 1: 1 * N\n",
    "    :param y_pred: A list of labels in 0 or 1: 1 * N\n",
    "    :return:\n",
    "    \"\"\"\n",
    "    # print(y_true, y_pred)\n",
    "\n",
    "    cf_m = confusion_matrix(y_true, y_pred)\n",
    "    # print(cf_m)\n",
    "\n",
    "    precision = cf_m[1,1] / (cf_m[1,1] + cf_m[0,1] + 10e-5)\n",
    "    recall = cf_m[1,1] / (cf_m[1,1] + cf_m[1,0])\n",
    "    f1 = 2 * (precision * recall) / (precision + recall + 10e-5)\n",
    "\n",
    "    return precision, recall, f1\n"
   ]
  },
  {
   "cell_type": "code",
   "execution_count": null,
   "id": "9dd85193",
   "metadata": {
    "execution": {
     "iopub.execute_input": "2023-05-22T19:22:07.384554Z",
     "iopub.status.busy": "2023-05-22T19:22:07.383879Z",
     "iopub.status.idle": "2023-05-22T19:22:07.390038Z",
     "shell.execute_reply": "2023-05-22T19:22:07.388742Z"
    },
    "papermill": {
     "duration": 0.038916,
     "end_time": "2023-05-22T19:22:07.392666",
     "exception": false,
     "start_time": "2023-05-22T19:22:07.353750",
     "status": "completed"
    },
    "tags": []
   },
   "outputs": [
    {
     "ename": "",
     "evalue": "",
     "output_type": "error",
     "traceback": [
      "\u001b[1;31mRunning cells with 'c:\\Users\\Cathy\\AppData\\Local\\Programs\\Python\\Python311\\python.exe' requires the ipykernel package.\n",
      "\u001b[1;31mRun the following command to install 'ipykernel' into the Python environment. \n",
      "\u001b[1;31mCommand: 'c:/Users/Cathy/AppData/Local/Programs/Python/Python311/python.exe -m pip install ipykernel -U --user --force-reinstall'"
     ]
    }
   ],
   "source": [
    "def evaluate(model, g, features, labels, device):\n",
    "    \"Compute the F1 value in a binary classification case\"\n",
    "\n",
    "    preds = model(g, features.to(device))\n",
    "    preds = th.argmax(preds, axis=1).numpy()\n",
    "    precision, recall, f1 = get_f1_score(labels, preds)\n",
    "\n",
    "    return f1\n"
   ]
  },
  {
   "cell_type": "code",
   "execution_count": null,
   "id": "aef34146",
   "metadata": {
    "execution": {
     "iopub.execute_input": "2023-05-22T19:22:07.450258Z",
     "iopub.status.busy": "2023-05-22T19:22:07.449554Z",
     "iopub.status.idle": "2023-05-22T19:22:07.456360Z",
     "shell.execute_reply": "2023-05-22T19:22:07.455504Z"
    },
    "papermill": {
     "duration": 0.038808,
     "end_time": "2023-05-22T19:22:07.458919",
     "exception": false,
     "start_time": "2023-05-22T19:22:07.420111",
     "status": "completed"
    },
    "tags": []
   },
   "outputs": [
    {
     "ename": "",
     "evalue": "",
     "output_type": "error",
     "traceback": [
      "\u001b[1;31mRunning cells with 'c:\\Users\\Cathy\\AppData\\Local\\Programs\\Python\\Python311\\python.exe' requires the ipykernel package.\n",
      "\u001b[1;31mRun the following command to install 'ipykernel' into the Python environment. \n",
      "\u001b[1;31mCommand: 'c:/Users/Cathy/AppData/Local/Programs/Python/Python311/python.exe -m pip install ipykernel -U --user --force-reinstall'"
     ]
    }
   ],
   "source": [
    "def get_model_class_predictions(model, g, features, labels, device, threshold=None):\n",
    "    unnormalized_preds = model(g, features.to(device))\n",
    "    pred_proba = th.softmax(unnormalized_preds, dim=-1)\n",
    "    if not threshold:\n",
    "        return unnormalized_preds.argmax(axis=1).detach().numpy(), pred_proba[:,1].detach().numpy()\n",
    "    return np.where(pred_proba.detach().numpy() > threshold, 1, 0), pred_proba[:,1].detach().numpy()"
   ]
  },
  {
   "cell_type": "code",
   "execution_count": null,
   "id": "90ff122a",
   "metadata": {
    "execution": {
     "iopub.execute_input": "2023-05-22T19:22:07.523052Z",
     "iopub.status.busy": "2023-05-22T19:22:07.522372Z",
     "iopub.status.idle": "2023-05-22T19:22:07.537146Z",
     "shell.execute_reply": "2023-05-22T19:22:07.535814Z"
    },
    "papermill": {
     "duration": 0.047926,
     "end_time": "2023-05-22T19:22:07.539910",
     "exception": false,
     "start_time": "2023-05-22T19:22:07.491984",
     "status": "completed"
    },
    "tags": []
   },
   "outputs": [
    {
     "ename": "",
     "evalue": "",
     "output_type": "error",
     "traceback": [
      "\u001b[1;31mRunning cells with 'c:\\Users\\Cathy\\AppData\\Local\\Programs\\Python\\Python311\\python.exe' requires the ipykernel package.\n",
      "\u001b[1;31mRun the following command to install 'ipykernel' into the Python environment. \n",
      "\u001b[1;31mCommand: 'c:/Users/Cathy/AppData/Local/Programs/Python/Python311/python.exe -m pip install ipykernel -U --user --force-reinstall'"
     ]
    }
   ],
   "source": [
    "def save_model(g, model, model_dir, id_to_node, mean, stdev):\n",
    "\n",
    "    # Save Pytorch model's parameters to model.pth\n",
    "    th.save(model.state_dict(), os.path.join(model_dir, 'model.pth'))\n",
    "\n",
    "    # Save graph's structure information to metadata.pkl for inference codes to initialize RGCN model.\n",
    "    etype_list = g.canonical_etypes\n",
    "    ntype_cnt = {ntype: g.number_of_nodes(ntype) for ntype in g.ntypes}\n",
    "    with open(os.path.join(model_dir, 'metadata.pkl'), 'wb') as f:\n",
    "        pickle.dump({'etypes': etype_list,\n",
    "                     'ntype_cnt': ntype_cnt,\n",
    "                     'feat_mean': mean,\n",
    "                     'feat_std': stdev}, f)\n",
    "\n",
    "    # Save original IDs to Node_ids, and trained embedding for non-target node type\n",
    "    # Covert id_to_node into pandas dataframes\n",
    "    for ntype, mapping in id_to_node.items():\n",
    "\n",
    "        # ignore target node\n",
    "        if ntype == 'target':\n",
    "            continue\n",
    "\n",
    "        # retrieve old and node id list\n",
    "        old_id_list, node_id_list = [], []\n",
    "        for old_id, node_id in mapping.items():\n",
    "            old_id_list.append(old_id)\n",
    "            node_id_list.append(node_id)\n",
    "\n",
    "        # retrieve embeddings of a node type\n",
    "        node_feats = model.embed[ntype].detach().numpy()\n",
    "\n",
    "        # get the number of nodes and the dimension of features\n",
    "        num_nodes = node_feats.shape[0]\n",
    "        num_feats = node_feats.shape[1]\n",
    "\n",
    "        # create id dataframe\n",
    "        node_ids_df = pd.DataFrame({'~label': [ntype] * num_nodes})\n",
    "        node_ids_df['~id_tmp'] = old_id_list\n",
    "        node_ids_df['~id'] = node_ids_df['~label'] + '-' + node_ids_df['~id_tmp']\n",
    "        node_ids_df['node_id'] = node_id_list\n",
    "\n",
    "        # create feature dataframe columns\n",
    "        cols = {'val' + str(i + 1) + ':Double': node_feats[:, i] for i in range(num_feats)}\n",
    "        node_feats_df = pd.DataFrame(cols)\n",
    "\n",
    "        # merge id with feature, where feature_df use index\n",
    "        node_id_feats_df = node_ids_df.merge(node_feats_df, left_on='node_id', right_on=node_feats_df.index)\n",
    "        # drop the id_tmp and node_id columns to follow the Grelim format requirements\n",
    "        node_id_feats_df = node_id_feats_df.drop(['~id_tmp', 'node_id'], axis=1)\n",
    "\n",
    "        # dump the embeddings to files\n",
    "        node_id_feats_df.to_csv(os.path.join(model_dir, ntype + '.csv'),\n",
    "                                index=False, header=True, encoding='utf-8')"
   ]
  },
  {
   "cell_type": "code",
   "execution_count": null,
   "id": "fe1bb783",
   "metadata": {
    "execution": {
     "iopub.execute_input": "2023-05-22T19:22:07.597238Z",
     "iopub.status.busy": "2023-05-22T19:22:07.596806Z",
     "iopub.status.idle": "2023-05-22T19:22:07.602803Z",
     "shell.execute_reply": "2023-05-22T19:22:07.601752Z"
    },
    "papermill": {
     "duration": 0.037737,
     "end_time": "2023-05-22T19:22:07.605013",
     "exception": false,
     "start_time": "2023-05-22T19:22:07.567276",
     "status": "completed"
    },
    "tags": []
   },
   "outputs": [
    {
     "ename": "",
     "evalue": "",
     "output_type": "error",
     "traceback": [
      "\u001b[1;31mRunning cells with 'c:\\Users\\Cathy\\AppData\\Local\\Programs\\Python\\Python311\\python.exe' requires the ipykernel package.\n",
      "\u001b[1;31mRun the following command to install 'ipykernel' into the Python environment. \n",
      "\u001b[1;31mCommand: 'c:/Users/Cathy/AppData/Local/Programs/Python/Python311/python.exe -m pip install ipykernel -U --user --force-reinstall'"
     ]
    }
   ],
   "source": [
    "def get_model(ntype_dict, etypes, hyperparams, in_feats, n_classes, device):\n",
    "\n",
    "    model = HeteroRGCN(ntype_dict, etypes, in_feats, hyperparams['n_hidden'], n_classes, hyperparams['n_layers'], in_feats)\n",
    "    model = model.to(device)\n",
    "\n",
    "    return model"
   ]
  },
  {
   "cell_type": "markdown",
   "id": "bbf591c5",
   "metadata": {
    "papermill": {
     "duration": 0.027089,
     "end_time": "2023-05-22T19:22:07.659518",
     "exception": false,
     "start_time": "2023-05-22T19:22:07.632429",
     "status": "completed"
    },
    "tags": []
   },
   "source": [
    "**Load data**"
   ]
  },
  {
   "cell_type": "code",
   "execution_count": null,
   "id": "7da3e6d1",
   "metadata": {
    "execution": {
     "iopub.execute_input": "2023-05-22T19:22:07.715900Z",
     "iopub.status.busy": "2023-05-22T19:22:07.715477Z",
     "iopub.status.idle": "2023-05-22T19:22:07.739490Z",
     "shell.execute_reply": "2023-05-22T19:22:07.738527Z"
    },
    "papermill": {
     "duration": 0.055482,
     "end_time": "2023-05-22T19:22:07.742297",
     "exception": false,
     "start_time": "2023-05-22T19:22:07.686815",
     "status": "completed"
    },
    "tags": []
   },
   "outputs": [
    {
     "ename": "",
     "evalue": "",
     "output_type": "error",
     "traceback": [
      "\u001b[1;31mRunning cells with 'c:\\Users\\Cathy\\AppData\\Local\\Programs\\Python\\Python311\\python.exe' requires the ipykernel package.\n",
      "\u001b[1;31mRun the following command to install 'ipykernel' into the Python environment. \n",
      "\u001b[1;31mCommand: 'c:/Users/Cathy/AppData/Local/Programs/Python/Python311/python.exe -m pip install ipykernel -U --user --force-reinstall'"
     ]
    }
   ],
   "source": [
    "file_list = glob.glob('/kaggle/working/*edgelist.csv')\n",
    "\n",
    "edges = \",\".join(map(lambda x: x.split(\"/\")[-1], [file for file in file_list if \"relation\" in file]))"
   ]
  },
  {
   "cell_type": "markdown",
   "id": "2b1a8202",
   "metadata": {
    "papermill": {
     "duration": 0.027897,
     "end_time": "2023-05-22T19:22:07.797950",
     "exception": false,
     "start_time": "2023-05-22T19:22:07.770053",
     "status": "completed"
    },
    "tags": []
   },
   "source": [
    "**Generate graph**"
   ]
  },
  {
   "cell_type": "code",
   "execution_count": null,
   "id": "94d02836",
   "metadata": {
    "execution": {
     "iopub.execute_input": "2023-05-22T19:22:07.858549Z",
     "iopub.status.busy": "2023-05-22T19:22:07.857735Z",
     "iopub.status.idle": "2023-05-22T19:22:07.866700Z",
     "shell.execute_reply": "2023-05-22T19:22:07.865397Z"
    },
    "papermill": {
     "duration": 0.043744,
     "end_time": "2023-05-22T19:22:07.869308",
     "exception": false,
     "start_time": "2023-05-22T19:22:07.825564",
     "status": "completed"
    },
    "tags": []
   },
   "outputs": [
    {
     "ename": "",
     "evalue": "",
     "output_type": "error",
     "traceback": [
      "\u001b[1;31mRunning cells with 'c:\\Users\\Cathy\\AppData\\Local\\Programs\\Python\\Python311\\python.exe' requires the ipykernel package.\n",
      "\u001b[1;31mRun the following command to install 'ipykernel' into the Python environment. \n",
      "\u001b[1;31mCommand: 'c:/Users/Cathy/AppData/Local/Programs/Python/Python311/python.exe -m pip install ipykernel -U --user --force-reinstall'"
     ]
    }
   ],
   "source": [
    "print('numpy version:{} PyTorch version:{} DGL version:{}'.format(np.__version__,\n",
    "                                                                    th.__version__,\n",
    "                                                                    dgl.__version__))\n",
    "\n",
    "args = parse_args()\n",
    "print(args)"
   ]
  },
  {
   "cell_type": "code",
   "execution_count": null,
   "id": "771c491b",
   "metadata": {
    "execution": {
     "iopub.execute_input": "2023-05-22T19:22:07.938866Z",
     "iopub.status.busy": "2023-05-22T19:22:07.937424Z",
     "iopub.status.idle": "2023-05-22T19:25:37.142024Z",
     "shell.execute_reply": "2023-05-22T19:25:37.140683Z"
    },
    "papermill": {
     "duration": 209.238394,
     "end_time": "2023-05-22T19:25:37.145077",
     "exception": false,
     "start_time": "2023-05-22T19:22:07.906683",
     "status": "completed"
    },
    "tags": []
   },
   "outputs": [
    {
     "ename": "",
     "evalue": "",
     "output_type": "error",
     "traceback": [
      "\u001b[1;31mRunning cells with 'c:\\Users\\Cathy\\AppData\\Local\\Programs\\Python\\Python311\\python.exe' requires the ipykernel package.\n",
      "\u001b[1;31mRun the following command to install 'ipykernel' into the Python environment. \n",
      "\u001b[1;31mCommand: 'c:/Users/Cathy/AppData/Local/Programs/Python/Python311/python.exe -m pip install ipykernel -U --user --force-reinstall'"
     ]
    }
   ],
   "source": [
    "args.edges = edges\n",
    "\n",
    "args.edges = get_edgelists('relation*', args.training_dir)\n",
    "\n",
    "g, features, target_id_to_node, id_to_node = construct_graph(args.training_dir,\n",
    "                                                                args.edges,\n",
    "                                                                args.nodes,\n",
    "                                                                args.target_ntype)\n",
    "\n",
    "mean, stdev, features = normalize(th.from_numpy(features))\n",
    "\n",
    "print('feature mean shape:{}, std shape:{}'.format(mean.shape, stdev.shape))"
   ]
  },
  {
   "cell_type": "code",
   "execution_count": null,
   "id": "e3eb6987",
   "metadata": {
    "execution": {
     "iopub.execute_input": "2023-05-22T19:25:37.210783Z",
     "iopub.status.busy": "2023-05-22T19:25:37.209607Z",
     "iopub.status.idle": "2023-05-22T19:25:38.284697Z",
     "shell.execute_reply": "2023-05-22T19:25:38.283301Z"
    },
    "papermill": {
     "duration": 1.111829,
     "end_time": "2023-05-22T19:25:38.288073",
     "exception": false,
     "start_time": "2023-05-22T19:25:37.176244",
     "status": "completed"
    },
    "tags": []
   },
   "outputs": [
    {
     "ename": "",
     "evalue": "",
     "output_type": "error",
     "traceback": [
      "\u001b[1;31mRunning cells with 'c:\\Users\\Cathy\\AppData\\Local\\Programs\\Python\\Python311\\python.exe' requires the ipykernel package.\n",
      "\u001b[1;31mRun the following command to install 'ipykernel' into the Python environment. \n",
      "\u001b[1;31mCommand: 'c:/Users/Cathy/AppData/Local/Programs/Python/Python311/python.exe -m pip install ipykernel -U --user --force-reinstall'"
     ]
    }
   ],
   "source": [
    "g.nodes['target'].data['features'] = features\n",
    "\n",
    "print(\"Getting labels\")\n",
    "n_nodes = g.number_of_nodes('target')\n",
    "\n",
    "labels, _, test_mask = get_labels(target_id_to_node,\n",
    "                                            n_nodes,\n",
    "                                            args.target_ntype,\n",
    "                                            os.path.join(args.training_dir, args.labels),\n",
    "                                            os.path.join(args.training_dir, args.new_accounts))\n",
    "print(\"Got labels\")\n",
    "\n",
    "labels = th.from_numpy(labels).float()\n",
    "test_mask = th.from_numpy(test_mask).float()\n",
    "\n",
    "n_nodes = th.sum(th.tensor([g.number_of_nodes(n_type) for n_type in g.ntypes]))\n",
    "n_edges = th.sum(th.tensor([g.number_of_edges(e_type) for e_type in g.etypes]))\n",
    "\n",
    "print(\"\"\"----Data statistics------'\n",
    "            #Nodes: {}\n",
    "            #Edges: {}\n",
    "            #Features Shape: {}\n",
    "            #Labeled Test samples: {}\"\"\".format(n_nodes,\n",
    "                                                    n_edges,\n",
    "                                                    features.shape,\n",
    "                                                    test_mask.sum()))"
   ]
  },
  {
   "cell_type": "markdown",
   "id": "46af81e5",
   "metadata": {
    "papermill": {
     "duration": 0.030907,
     "end_time": "2023-05-22T19:25:38.350199",
     "exception": false,
     "start_time": "2023-05-22T19:25:38.319292",
     "status": "completed"
    },
    "tags": []
   },
   "source": [
    "**Training**"
   ]
  },
  {
   "cell_type": "code",
   "execution_count": null,
   "id": "f8f660dd",
   "metadata": {
    "execution": {
     "iopub.execute_input": "2023-05-22T19:25:38.414640Z",
     "iopub.status.busy": "2023-05-22T19:25:38.413659Z",
     "iopub.status.idle": "2023-05-22T19:25:38.419085Z",
     "shell.execute_reply": "2023-05-22T19:25:38.418276Z"
    },
    "papermill": {
     "duration": 0.040428,
     "end_time": "2023-05-22T19:25:38.421549",
     "exception": false,
     "start_time": "2023-05-22T19:25:38.381121",
     "status": "completed"
    },
    "tags": []
   },
   "outputs": [
    {
     "ename": "",
     "evalue": "",
     "output_type": "error",
     "traceback": [
      "\u001b[1;31mRunning cells with 'c:\\Users\\Cathy\\AppData\\Local\\Programs\\Python\\Python311\\python.exe' requires the ipykernel package.\n",
      "\u001b[1;31mRun the following command to install 'ipykernel' into the Python environment. \n",
      "\u001b[1;31mCommand: 'c:/Users/Cathy/AppData/Local/Programs/Python/Python311/python.exe -m pip install ipykernel -U --user --force-reinstall'"
     ]
    }
   ],
   "source": [
    "if args.num_gpus:\n",
    "    cuda = True\n",
    "    device = th.device('cuda:0')\n",
    "else:\n",
    "    cuda = False\n",
    "    device = th.device('cpu')"
   ]
  },
  {
   "cell_type": "code",
   "execution_count": null,
   "id": "898b8cf4",
   "metadata": {
    "execution": {
     "iopub.execute_input": "2023-05-22T19:25:38.487496Z",
     "iopub.status.busy": "2023-05-22T19:25:38.487048Z",
     "iopub.status.idle": "2023-05-22T19:25:38.493107Z",
     "shell.execute_reply": "2023-05-22T19:25:38.491654Z"
    },
    "papermill": {
     "duration": 0.043109,
     "end_time": "2023-05-22T19:25:38.496034",
     "exception": false,
     "start_time": "2023-05-22T19:25:38.452925",
     "status": "completed"
    },
    "tags": []
   },
   "outputs": [
    {
     "ename": "",
     "evalue": "",
     "output_type": "error",
     "traceback": [
      "\u001b[1;31mRunning cells with 'c:\\Users\\Cathy\\AppData\\Local\\Programs\\Python\\Python311\\python.exe' requires the ipykernel package.\n",
      "\u001b[1;31mRun the following command to install 'ipykernel' into the Python environment. \n",
      "\u001b[1;31mCommand: 'c:/Users/Cathy/AppData/Local/Programs/Python/Python311/python.exe -m pip install ipykernel -U --user --force-reinstall'"
     ]
    }
   ],
   "source": [
    "print(\"Initializing Model\")\n",
    "in_feats = features.shape[1]\n",
    "n_classes = 2"
   ]
  },
  {
   "cell_type": "code",
   "execution_count": null,
   "id": "6c040b21",
   "metadata": {
    "execution": {
     "iopub.execute_input": "2023-05-22T19:25:38.561566Z",
     "iopub.status.busy": "2023-05-22T19:25:38.561139Z",
     "iopub.status.idle": "2023-05-22T19:25:38.566542Z",
     "shell.execute_reply": "2023-05-22T19:25:38.565611Z"
    },
    "papermill": {
     "duration": 0.041036,
     "end_time": "2023-05-22T19:25:38.568802",
     "exception": false,
     "start_time": "2023-05-22T19:25:38.527766",
     "status": "completed"
    },
    "tags": []
   },
   "outputs": [
    {
     "ename": "",
     "evalue": "",
     "output_type": "error",
     "traceback": [
      "\u001b[1;31mRunning cells with 'c:\\Users\\Cathy\\AppData\\Local\\Programs\\Python\\Python311\\python.exe' requires the ipykernel package.\n",
      "\u001b[1;31mRun the following command to install 'ipykernel' into the Python environment. \n",
      "\u001b[1;31mCommand: 'c:/Users/Cathy/AppData/Local/Programs/Python/Python311/python.exe -m pip install ipykernel -U --user --force-reinstall'"
     ]
    }
   ],
   "source": [
    "ntype_dict = {n_type: g.number_of_nodes(n_type) for n_type in g.ntypes}"
   ]
  },
  {
   "cell_type": "code",
   "execution_count": null,
   "id": "e2399fbf",
   "metadata": {
    "execution": {
     "iopub.execute_input": "2023-05-22T19:25:38.634567Z",
     "iopub.status.busy": "2023-05-22T19:25:38.634132Z",
     "iopub.status.idle": "2023-05-22T19:25:39.195254Z",
     "shell.execute_reply": "2023-05-22T19:25:39.193638Z"
    },
    "papermill": {
     "duration": 0.596878,
     "end_time": "2023-05-22T19:25:39.197785",
     "exception": false,
     "start_time": "2023-05-22T19:25:38.600907",
     "status": "completed"
    },
    "tags": []
   },
   "outputs": [
    {
     "ename": "",
     "evalue": "",
     "output_type": "error",
     "traceback": [
      "\u001b[1;31mRunning cells with 'c:\\Users\\Cathy\\AppData\\Local\\Programs\\Python\\Python311\\python.exe' requires the ipykernel package.\n",
      "\u001b[1;31mRun the following command to install 'ipykernel' into the Python environment. \n",
      "\u001b[1;31mCommand: 'c:/Users/Cathy/AppData/Local/Programs/Python/Python311/python.exe -m pip install ipykernel -U --user --force-reinstall'"
     ]
    }
   ],
   "source": [
    "model = get_model(ntype_dict, g.etypes, vars(args), in_feats, n_classes, device)\n",
    "print(\"Initialized Model\")"
   ]
  },
  {
   "cell_type": "code",
   "execution_count": null,
   "id": "3688a3a7",
   "metadata": {
    "execution": {
     "iopub.execute_input": "2023-05-22T19:25:39.264482Z",
     "iopub.status.busy": "2023-05-22T19:25:39.264035Z",
     "iopub.status.idle": "2023-05-22T19:25:39.268829Z",
     "shell.execute_reply": "2023-05-22T19:25:39.267863Z"
    },
    "papermill": {
     "duration": 0.04067,
     "end_time": "2023-05-22T19:25:39.270949",
     "exception": false,
     "start_time": "2023-05-22T19:25:39.230279",
     "status": "completed"
    },
    "tags": []
   },
   "outputs": [
    {
     "ename": "",
     "evalue": "",
     "output_type": "error",
     "traceback": [
      "\u001b[1;31mRunning cells with 'c:\\Users\\Cathy\\AppData\\Local\\Programs\\Python\\Python311\\python.exe' requires the ipykernel package.\n",
      "\u001b[1;31mRun the following command to install 'ipykernel' into the Python environment. \n",
      "\u001b[1;31mCommand: 'c:/Users/Cathy/AppData/Local/Programs/Python/Python311/python.exe -m pip install ipykernel -U --user --force-reinstall'"
     ]
    }
   ],
   "source": [
    "features = features.to(device)"
   ]
  },
  {
   "cell_type": "code",
   "execution_count": null,
   "id": "37f8ebdf",
   "metadata": {
    "execution": {
     "iopub.execute_input": "2023-05-22T19:25:39.337053Z",
     "iopub.status.busy": "2023-05-22T19:25:39.336210Z",
     "iopub.status.idle": "2023-05-22T19:25:39.343898Z",
     "shell.execute_reply": "2023-05-22T19:25:39.342847Z"
    },
    "papermill": {
     "duration": 0.043471,
     "end_time": "2023-05-22T19:25:39.346512",
     "exception": false,
     "start_time": "2023-05-22T19:25:39.303041",
     "status": "completed"
    },
    "tags": []
   },
   "outputs": [
    {
     "ename": "",
     "evalue": "",
     "output_type": "error",
     "traceback": [
      "\u001b[1;31mRunning cells with 'c:\\Users\\Cathy\\AppData\\Local\\Programs\\Python\\Python311\\python.exe' requires the ipykernel package.\n",
      "\u001b[1;31mRun the following command to install 'ipykernel' into the Python environment. \n",
      "\u001b[1;31mCommand: 'c:/Users/Cathy/AppData/Local/Programs/Python/Python311/python.exe -m pip install ipykernel -U --user --force-reinstall'"
     ]
    }
   ],
   "source": [
    "labels = labels.long().to(device)\n",
    "test_mask = test_mask.to(device)"
   ]
  },
  {
   "cell_type": "code",
   "execution_count": null,
   "id": "797605e0",
   "metadata": {
    "execution": {
     "iopub.execute_input": "2023-05-22T19:25:39.413172Z",
     "iopub.status.busy": "2023-05-22T19:25:39.412354Z",
     "iopub.status.idle": "2023-05-22T19:25:39.417016Z",
     "shell.execute_reply": "2023-05-22T19:25:39.416226Z"
    },
    "papermill": {
     "duration": 0.040258,
     "end_time": "2023-05-22T19:25:39.419291",
     "exception": false,
     "start_time": "2023-05-22T19:25:39.379033",
     "status": "completed"
    },
    "tags": []
   },
   "outputs": [
    {
     "ename": "",
     "evalue": "",
     "output_type": "error",
     "traceback": [
      "\u001b[1;31mRunning cells with 'c:\\Users\\Cathy\\AppData\\Local\\Programs\\Python\\Python311\\python.exe' requires the ipykernel package.\n",
      "\u001b[1;31mRun the following command to install 'ipykernel' into the Python environment. \n",
      "\u001b[1;31mCommand: 'c:/Users/Cathy/AppData/Local/Programs/Python/Python311/python.exe -m pip install ipykernel -U --user --force-reinstall'"
     ]
    }
   ],
   "source": [
    "loss = th.nn.CrossEntropyLoss()"
   ]
  },
  {
   "cell_type": "code",
   "execution_count": null,
   "id": "7fdbf75d",
   "metadata": {
    "execution": {
     "iopub.execute_input": "2023-05-22T19:25:39.484748Z",
     "iopub.status.busy": "2023-05-22T19:25:39.484309Z",
     "iopub.status.idle": "2023-05-22T19:25:39.495286Z",
     "shell.execute_reply": "2023-05-22T19:25:39.494367Z"
    },
    "papermill": {
     "duration": 0.046887,
     "end_time": "2023-05-22T19:25:39.497743",
     "exception": false,
     "start_time": "2023-05-22T19:25:39.450856",
     "status": "completed"
    },
    "tags": []
   },
   "outputs": [
    {
     "ename": "",
     "evalue": "",
     "output_type": "error",
     "traceback": [
      "\u001b[1;31mRunning cells with 'c:\\Users\\Cathy\\AppData\\Local\\Programs\\Python\\Python311\\python.exe' requires the ipykernel package.\n",
      "\u001b[1;31mRun the following command to install 'ipykernel' into the Python environment. \n",
      "\u001b[1;31mCommand: 'c:/Users/Cathy/AppData/Local/Programs/Python/Python311/python.exe -m pip install ipykernel -U --user --force-reinstall'"
     ]
    }
   ],
   "source": [
    "# print(model)\n",
    "optim = th.optim.Adam(model.parameters(), lr=args.lr, weight_decay=args.weight_decay)\n"
   ]
  },
  {
   "cell_type": "code",
   "execution_count": null,
   "id": "f8d5d513",
   "metadata": {
    "execution": {
     "iopub.execute_input": "2023-05-22T19:25:39.563638Z",
     "iopub.status.busy": "2023-05-22T19:25:39.562898Z",
     "iopub.status.idle": "2023-05-22T19:25:39.568488Z",
     "shell.execute_reply": "2023-05-22T19:25:39.567365Z"
    },
    "papermill": {
     "duration": 0.04125,
     "end_time": "2023-05-22T19:25:39.570715",
     "exception": false,
     "start_time": "2023-05-22T19:25:39.529465",
     "status": "completed"
    },
    "tags": []
   },
   "outputs": [
    {
     "ename": "",
     "evalue": "",
     "output_type": "error",
     "traceback": [
      "\u001b[1;31mRunning cells with 'c:\\Users\\Cathy\\AppData\\Local\\Programs\\Python\\Python311\\python.exe' requires the ipykernel package.\n",
      "\u001b[1;31mRun the following command to install 'ipykernel' into the Python environment. \n",
      "\u001b[1;31mCommand: 'c:/Users/Cathy/AppData/Local/Programs/Python/Python311/python.exe -m pip install ipykernel -U --user --force-reinstall'"
     ]
    }
   ],
   "source": [
    "print(\"Starting Model training\")"
   ]
  },
  {
   "cell_type": "code",
   "execution_count": null,
   "id": "08456b8a",
   "metadata": {
    "execution": {
     "iopub.execute_input": "2023-05-22T19:25:39.635880Z",
     "iopub.status.busy": "2023-05-22T19:25:39.635227Z",
     "iopub.status.idle": "2023-05-22T19:25:39.641864Z",
     "shell.execute_reply": "2023-05-22T19:25:39.640913Z"
    },
    "papermill": {
     "duration": 0.0423,
     "end_time": "2023-05-22T19:25:39.644487",
     "exception": false,
     "start_time": "2023-05-22T19:25:39.602187",
     "status": "completed"
    },
    "tags": []
   },
   "outputs": [
    {
     "ename": "",
     "evalue": "",
     "output_type": "error",
     "traceback": [
      "\u001b[1;31mRunning cells with 'c:\\Users\\Cathy\\AppData\\Local\\Programs\\Python\\Python311\\python.exe' requires the ipykernel package.\n",
      "\u001b[1;31mRun the following command to install 'ipykernel' into the Python environment. \n",
      "\u001b[1;31mCommand: 'c:/Users/Cathy/AppData/Local/Programs/Python/Python311/python.exe -m pip install ipykernel -U --user --force-reinstall'"
     ]
    }
   ],
   "source": [
    "initial_record()"
   ]
  },
  {
   "cell_type": "code",
   "execution_count": null,
   "id": "2ee6a62c",
   "metadata": {
    "execution": {
     "iopub.execute_input": "2023-05-22T19:25:39.709951Z",
     "iopub.status.busy": "2023-05-22T19:25:39.709171Z",
     "iopub.status.idle": "2023-05-22T20:12:39.711440Z",
     "shell.execute_reply": "2023-05-22T20:12:39.710279Z"
    },
    "papermill": {
     "duration": 2820.037938,
     "end_time": "2023-05-22T20:12:39.714093",
     "exception": false,
     "start_time": "2023-05-22T19:25:39.676155",
     "status": "completed"
    },
    "tags": []
   },
   "outputs": [
    {
     "ename": "",
     "evalue": "",
     "output_type": "error",
     "traceback": [
      "\u001b[1;31mRunning cells with 'c:\\Users\\Cathy\\AppData\\Local\\Programs\\Python\\Python311\\python.exe' requires the ipykernel package.\n",
      "\u001b[1;31mRun the following command to install 'ipykernel' into the Python environment. \n",
      "\u001b[1;31mCommand: 'c:/Users/Cathy/AppData/Local/Programs/Python/Python311/python.exe -m pip install ipykernel -U --user --force-reinstall'"
     ]
    }
   ],
   "source": [
    "model, class_preds, pred_proba = train_fg(model, optim, loss, features, labels, g, g,\n",
    "                                            test_mask, device, args.n_epochs,\n",
    "                                            args.threshold,  args.compute_metrics)"
   ]
  }
 ],
 "metadata": {
  "kernelspec": {
   "display_name": "Python 3",
   "language": "python",
   "name": "python3"
  },
  "language_info": {
   "codemirror_mode": {
    "name": "ipython",
    "version": 3
   },
   "file_extension": ".py",
   "mimetype": "text/x-python",
   "name": "python",
   "nbconvert_exporter": "python",
   "pygments_lexer": "ipython3",
   "version": "3.11.5"
  },
  "papermill": {
   "default_parameters": {},
   "duration": 3364.251209,
   "end_time": "2023-05-22T20:12:43.146104",
   "environment_variables": {},
   "exception": null,
   "input_path": "__notebook__.ipynb",
   "output_path": "__notebook__.ipynb",
   "parameters": {},
   "start_time": "2023-05-22T19:16:38.894895",
   "version": "2.4.0"
  }
 },
 "nbformat": 4,
 "nbformat_minor": 5
}
